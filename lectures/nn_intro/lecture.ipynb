{
 "cells": [
  {
   "cell_type": "markdown",
   "metadata": {},
   "source": [
    "# Classes, methods, init\n",
    "\n",
    "## What is class and method?\n",
    "```py\n",
    ">>> from sklearn import tree # Import a class\n",
    ">>> X = [[0, 0], [1, 1]]\n",
    ">>> Y = [0, 1]\n",
    ">>> clf = tree.DecisionTreeClassifier(criterion='gini') # instantiate a class\n",
    "# clf is an instance of a class\n",
    ">>> clf = clf.fit(X, Y) # call class method\n",
    "```\n",
    "\n",
    "## Creating our own class.\n",
    "```py\n",
    "    class Person:\n",
    "    def __init__(self, name: str, age: int):\n",
    "        self.name = name\n",
    "        self.age = age\n",
    "```\n",
    "\n",
    "## Public, private, dunder methods\n",
    "- Python doesn't have private methods by default, but we use `_` as convection (`_private_method()`).\n",
    "- Dunder (double underscore) methods in Python allow to interact with the built-in functions and operators of the language.\n",
    "- E.g. `__repr__, __str__, __eq__, __add__, __mul__, __neg__, __sub__`\n",
    "\n",
    "FYI: Check out data classes if you want more something like data structure, instead of actor.\n",
    "```py\n",
    "from dataclasses import dataclass\n",
    "\n",
    "@dataclass\n",
    "class Person:\n",
    "    name: str\n",
    "    age: int\n",
    "\n",
    "p1 = Person(\"Alice\", 30)\n",
    "p2 = Person(\"Alice\", 30)\n",
    "print(p1 == p2)  # True\n",
    "```"
   ]
  },
  {
   "cell_type": "code",
   "execution_count": 1,
   "metadata": {},
   "outputs": [],
   "source": [
    "class Value:\n",
    "    \"\"\" stores a single scalar value and its gradient \"\"\"\n",
    "\n",
    "    def __init__(self, data):\n",
    "        self.data = data\n",
    "\n",
    "    def __repr__(self):\n",
    "        return f\"Value(data={self.data})\""
   ]
  },
  {
   "cell_type": "code",
   "execution_count": 2,
   "metadata": {},
   "outputs": [
    {
     "name": "stdout",
     "output_type": "stream",
     "text": [
      "Value(data=5)\n"
     ]
    }
   ],
   "source": [
    "val = Value(5)\n",
    "assert val.data == 5\n",
    "print(val)"
   ]
  },
  {
   "cell_type": "markdown",
   "metadata": {},
   "source": [
    "# Implementing arithmetic operations"
   ]
  },
  {
   "cell_type": "code",
   "execution_count": 3,
   "metadata": {},
   "outputs": [
    {
     "ename": "TypeError",
     "evalue": "unsupported operand type(s) for +: 'Value' and 'Value'",
     "output_type": "error",
     "traceback": [
      "\u001b[0;31m---------------------------------------------------------------------------\u001b[0m",
      "\u001b[0;31mTypeError\u001b[0m                                 Traceback (most recent call last)",
      "Cell \u001b[0;32mIn [3], line 1\u001b[0m\n\u001b[0;32m----> 1\u001b[0m \u001b[43mValue\u001b[49m\u001b[43m(\u001b[49m\u001b[38;5;241;43m2\u001b[39;49m\u001b[43m)\u001b[49m\u001b[43m \u001b[49m\u001b[38;5;241;43m+\u001b[39;49m\u001b[43m \u001b[49m\u001b[43mValue\u001b[49m\u001b[43m(\u001b[49m\u001b[38;5;241;43m3\u001b[39;49m\u001b[43m)\u001b[49m\n",
      "\u001b[0;31mTypeError\u001b[0m: unsupported operand type(s) for +: 'Value' and 'Value'"
     ]
    }
   ],
   "source": [
    "Value(2) + Value(3)"
   ]
  },
  {
   "cell_type": "code",
   "execution_count": null,
   "metadata": {},
   "outputs": [],
   "source": [
    "class Value:\n",
    "    \"\"\" stores a single scalar value and its gradient \"\"\"\n",
    "\n",
    "    def __init__(self, data):\n",
    "        self.data = data\n",
    "\n",
    "    def __repr__(self):\n",
    "        return f\"Value(data={self.data})\"\n",
    "\n",
    "    def __add__(self, other):\n",
    "        out = Value(self.data + other.data)\n",
    "\n",
    "        return out\n",
    "\n",
    "    def __mul__(self, other):\n",
    "        out = Value(self.data * other.data)\n",
    "\n",
    "        return out"
   ]
  },
  {
   "cell_type": "code",
   "execution_count": null,
   "metadata": {},
   "outputs": [],
   "source": [
    "Value(2) + Value(3)\n"
   ]
  },
  {
   "cell_type": "markdown",
   "metadata": {},
   "source": [
    "## Adding subtraction"
   ]
  },
  {
   "cell_type": "markdown",
   "metadata": {},
   "source": [
    "Value(2) - Value(3)"
   ]
  },
  {
   "cell_type": "code",
   "execution_count": 4,
   "metadata": {},
   "outputs": [],
   "source": [
    "class Value:\n",
    "    \"\"\" stores a single scalar value and its gradient \"\"\"\n",
    "\n",
    "    def __init__(self, data):\n",
    "        self.data = data\n",
    "\n",
    "    def __repr__(self):\n",
    "        return f\"Value(data={self.data})\"\n",
    "\n",
    "    def __add__(self, other):\n",
    "        other = other if isinstance(other, Value) else Value(other)        \n",
    "        out = Value(self.data + other.data)\n",
    "\n",
    "        return out\n",
    "\n",
    "    def __mul__(self, other):\n",
    "        other = other if isinstance(other, Value) else Value(other)        \n",
    "        out = Value(self.data * other.data)\n",
    "\n",
    "        return out\n",
    "\n",
    "    def __neg__(self): # -self\n",
    "        return self * -1\n",
    "\n",
    "    def __sub__(self, other): # self - other\n",
    "        return self + (-other)"
   ]
  },
  {
   "cell_type": "code",
   "execution_count": 5,
   "metadata": {},
   "outputs": [
    {
     "data": {
      "text/plain": [
       "Value(data=-1)"
      ]
     },
     "execution_count": 5,
     "metadata": {},
     "output_type": "execute_result"
    }
   ],
   "source": [
    "Value(2) - Value(3)"
   ]
  },
  {
   "cell_type": "markdown",
   "metadata": {},
   "source": [
    "# Linking with children"
   ]
  },
  {
   "cell_type": "code",
   "execution_count": 6,
   "metadata": {},
   "outputs": [],
   "source": [
    "A = Value(1)\n",
    "B = Value(2)\n",
    "C = Value(3)\n",
    "\n",
    "D = A * B + C"
   ]
  },
  {
   "cell_type": "code",
   "execution_count": 7,
   "metadata": {},
   "outputs": [
    {
     "ename": "AttributeError",
     "evalue": "'Value' object has no attribute '_prev'",
     "output_type": "error",
     "traceback": [
      "\u001b[0;31m---------------------------------------------------------------------------\u001b[0m",
      "\u001b[0;31mAttributeError\u001b[0m                            Traceback (most recent call last)",
      "Cell \u001b[0;32mIn [7], line 1\u001b[0m\n\u001b[0;32m----> 1\u001b[0m \u001b[43mD\u001b[49m\u001b[38;5;241;43m.\u001b[39;49m\u001b[43m_prev\u001b[49m\n",
      "\u001b[0;31mAttributeError\u001b[0m: 'Value' object has no attribute '_prev'"
     ]
    }
   ],
   "source": [
    "D._prev"
   ]
  },
  {
   "cell_type": "code",
   "execution_count": 8,
   "metadata": {},
   "outputs": [],
   "source": [
    "class Value:\n",
    "    \"\"\" stores a single scalar value and its gradient \"\"\"\n",
    "\n",
    "    def __init__(self, data):\n",
    "        self.data\n",
    "    def __init__(self, data, _children=(), _op=''):\n",
    "        self.data = data\n",
    "        self._prev = set(_children)\n",
    "        self._op = _op # the op that produced this node, for graphviz / debugging / etc\n",
    "\n",
    "    def __repr__(self):\n",
    "        return f\"Value(data={self.data}, op={self._op})\"\n",
    "\n",
    "    def __add__(self, other):\n",
    "        other = other if isinstance(other, Value) else Value(other)\n",
    "        out = Value(self.data + other.data)\n",
    "        out = Value(self.data + other.data, (self, other), '+')\n",
    "\n",
    "        return out\n",
    "\n",
    "    def __mul__(self, other):\n",
    "        other = other if isinstance(other, Value) else Value(other)\n",
    "        out = Value(self.data * other.data)\n",
    "        out = Value(self.data * other.data, (self, other), '*')\n",
    "\n",
    "        return out"
   ]
  },
  {
   "cell_type": "code",
   "execution_count": 9,
   "metadata": {},
   "outputs": [],
   "source": [
    "\n",
    "A = Value(1)\n",
    "B = Value(2)\n",
    "C = Value(3)\n",
    "\n",
    "D = A * B + C"
   ]
  },
  {
   "cell_type": "code",
   "execution_count": 10,
   "metadata": {},
   "outputs": [
    {
     "data": {
      "text/plain": [
       "{Value(data=2, op=*), Value(data=3, op=)}"
      ]
     },
     "execution_count": 10,
     "metadata": {},
     "output_type": "execute_result"
    }
   ],
   "source": [
    "D._prev"
   ]
  },
  {
   "cell_type": "code",
   "execution_count": 11,
   "metadata": {},
   "outputs": [
    {
     "data": {
      "text/plain": [
       "{Value(data=1, op=), Value(data=2, op=)}"
      ]
     },
     "execution_count": 11,
     "metadata": {},
     "output_type": "execute_result"
    }
   ],
   "source": [
    "list(D._prev)[1]._prev\n"
   ]
  },
  {
   "cell_type": "markdown",
   "metadata": {},
   "source": [
    "# Mapping the graph\n",
    "\n",
    "We can use recursion. Lends well to mathematical induction. Example: Fibonacci sequrence."
   ]
  },
  {
   "cell_type": "code",
   "execution_count": 12,
   "metadata": {},
   "outputs": [],
   "source": [
    "def trace(root_node):\n",
    "    nodes, edges = set(), set()\n",
    "    # 1. add node to set of `nodes` if not yet there\n",
    "    # 2. go through all immediate children of node\n",
    "    # 3. add edges to `edges` set\n",
    "    # 4. recursively apply function to the children\n",
    "    return notes, edges"
   ]
  },
  {
   "cell_type": "code",
   "execution_count": 13,
   "metadata": {},
   "outputs": [],
   "source": [
    "A = Value(1)\n",
    "B = Value(2)\n",
    "C = Value(3)\n",
    "\n",
    "D = A * B + C"
   ]
  },
  {
   "cell_type": "code",
   "execution_count": 14,
   "metadata": {},
   "outputs": [],
   "source": [
    "def trace(root):\n",
    "    nodes, edges = set(), set()\n",
    "    def build(v):\n",
    "        if v not in nodes:\n",
    "            nodes.add(v)\n",
    "            for child in v._prev:\n",
    "                edges.add((child, v))\n",
    "                build(child)\n",
    "    build(root)\n",
    "    return nodes, edges"
   ]
  },
  {
   "cell_type": "code",
   "execution_count": 15,
   "metadata": {},
   "outputs": [],
   "source": [
    "nodes, edges = trace(D)"
   ]
  },
  {
   "cell_type": "code",
   "execution_count": 16,
   "metadata": {},
   "outputs": [
    {
     "name": "stdout",
     "output_type": "stream",
     "text": [
      "{Value(data=2, op=), Value(data=2, op=*), Value(data=3, op=), Value(data=1, op=), Value(data=5, op=+)}\n"
     ]
    }
   ],
   "source": [
    "print(nodes)"
   ]
  },
  {
   "cell_type": "code",
   "execution_count": 17,
   "metadata": {},
   "outputs": [
    {
     "name": "stdout",
     "output_type": "stream",
     "text": [
      "(Value(data=3, op=), Value(data=5, op=+))\n",
      "(Value(data=2, op=*), Value(data=5, op=+))\n",
      "(Value(data=2, op=), Value(data=2, op=*))\n",
      "(Value(data=1, op=), Value(data=2, op=*))\n"
     ]
    }
   ],
   "source": [
    "for edge in edges:\n",
    "    print(edge)"
   ]
  },
  {
   "cell_type": "code",
   "execution_count": 25,
   "metadata": {},
   "outputs": [],
   "source": [
    "# !pip install graphviz\n",
    "# + install in your os as well, like `brew install graphviz` or `sudo apt-get install graphviz`"
   ]
  },
  {
   "cell_type": "code",
   "execution_count": 26,
   "metadata": {},
   "outputs": [],
   "source": [
    "from IPython.display import display"
   ]
  },
  {
   "cell_type": "code",
   "execution_count": 37,
   "metadata": {},
   "outputs": [],
   "source": [
    "from graphviz import Digraph\n",
    "def draw_dot(root, format='svg', rankdir='LR'):\n",
    "    \"\"\"\n",
    "    format: png | svg | ...\n",
    "    rankdir: TB (top to bottom graph) | LR (left to right)\n",
    "    \"\"\"\n",
    "    assert rankdir in ['LR', 'TB']\n",
    "    nodes, edges = trace(root)\n",
    "    dot = Digraph(format=format, graph_attr={'rankdir': rankdir}) #, node_attr={'rankdir': 'TB'})\n",
    "\n",
    "    for n in nodes:\n",
    "        dot.node(name=str(id(n)), label = \"{ data %.4f}\" % (n.data,), shape='record')\n",
    "        if n._op:\n",
    "            dot.node(name=str(id(n)) + n._op, label=n._op)\n",
    "            dot.edge(str(id(n)) + n._op, str(id(n)))\n",
    "\n",
    "    for n1, n2 in edges:\n",
    "        dot.edge(str(id(n1)), str(id(n2)) + n2._op)\n",
    "\n",
    "    return dot\n"
   ]
  },
  {
   "cell_type": "code",
   "execution_count": 38,
   "metadata": {},
   "outputs": [
    {
     "data": {
      "image/svg+xml": [
       "<?xml version=\"1.0\" encoding=\"UTF-8\" standalone=\"no\"?>\n",
       "<!DOCTYPE svg PUBLIC \"-//W3C//DTD SVG 1.1//EN\"\n",
       " \"http://www.w3.org/Graphics/SVG/1.1/DTD/svg11.dtd\">\n",
       "<!-- Generated by graphviz version 9.0.0 (20230911.1827)\n",
       " -->\n",
       "<!-- Pages: 1 -->\n",
       "<svg width=\"499pt\" height=\"128pt\"\n",
       " viewBox=\"0.00 0.00 499.25 128.00\" xmlns=\"http://www.w3.org/2000/svg\" xmlns:xlink=\"http://www.w3.org/1999/xlink\">\n",
       "<g id=\"graph0\" class=\"graph\" transform=\"scale(1 1) rotate(0) translate(4 124)\">\n",
       "<polygon fill=\"white\" stroke=\"none\" points=\"-4,4 -4,-124 495.25,-124 495.25,4 -4,4\"/>\n",
       "<!-- 4510633744 -->\n",
       "<g id=\"node1\" class=\"node\">\n",
       "<title>4510633744</title>\n",
       "<polygon fill=\"none\" stroke=\"black\" points=\"0,-83.5 0,-119.5 79.75,-119.5 79.75,-83.5 0,-83.5\"/>\n",
       "<text text-anchor=\"middle\" x=\"39.88\" y=\"-96.7\" font-family=\"Times,serif\" font-size=\"14.00\">data 2.0000</text>\n",
       "</g>\n",
       "<!-- 4512410400* -->\n",
       "<g id=\"node3\" class=\"node\">\n",
       "<title>4512410400*</title>\n",
       "<ellipse fill=\"none\" stroke=\"black\" cx=\"142.75\" cy=\"-73.5\" rx=\"27\" ry=\"18\"/>\n",
       "<text text-anchor=\"middle\" x=\"142.75\" y=\"-68.45\" font-family=\"Times,serif\" font-size=\"14.00\">*</text>\n",
       "</g>\n",
       "<!-- 4510633744&#45;&gt;4512410400* -->\n",
       "<g id=\"edge5\" class=\"edge\">\n",
       "<title>4510633744&#45;&gt;4512410400*</title>\n",
       "<path fill=\"none\" stroke=\"black\" d=\"M80.16,-90.59C88.76,-88.21 97.81,-85.7 106.25,-83.35\"/>\n",
       "<polygon fill=\"black\" stroke=\"black\" points=\"107.11,-86.75 115.81,-80.7 105.24,-80 107.11,-86.75\"/>\n",
       "</g>\n",
       "<!-- 4512410400 -->\n",
       "<g id=\"node2\" class=\"node\">\n",
       "<title>4512410400</title>\n",
       "<polygon fill=\"none\" stroke=\"black\" points=\"205.75,-55.5 205.75,-91.5 285.5,-91.5 285.5,-55.5 205.75,-55.5\"/>\n",
       "<text text-anchor=\"middle\" x=\"245.62\" y=\"-68.7\" font-family=\"Times,serif\" font-size=\"14.00\">data 2.0000</text>\n",
       "</g>\n",
       "<!-- 4510486000+ -->\n",
       "<g id=\"node7\" class=\"node\">\n",
       "<title>4510486000+</title>\n",
       "<ellipse fill=\"none\" stroke=\"black\" cx=\"348.5\" cy=\"-45.5\" rx=\"27\" ry=\"18\"/>\n",
       "<text text-anchor=\"middle\" x=\"348.5\" y=\"-40.45\" font-family=\"Times,serif\" font-size=\"14.00\">+</text>\n",
       "</g>\n",
       "<!-- 4512410400&#45;&gt;4510486000+ -->\n",
       "<g id=\"edge4\" class=\"edge\">\n",
       "<title>4512410400&#45;&gt;4510486000+</title>\n",
       "<path fill=\"none\" stroke=\"black\" d=\"M285.91,-62.59C294.51,-60.21 303.56,-57.7 312,-55.35\"/>\n",
       "<polygon fill=\"black\" stroke=\"black\" points=\"312.86,-58.75 321.56,-52.7 310.99,-52 312.86,-58.75\"/>\n",
       "</g>\n",
       "<!-- 4512410400*&#45;&gt;4512410400 -->\n",
       "<g id=\"edge1\" class=\"edge\">\n",
       "<title>4512410400*&#45;&gt;4512410400</title>\n",
       "<path fill=\"none\" stroke=\"black\" d=\"M169.99,-73.5C177.46,-73.5 185.85,-73.5 194.24,-73.5\"/>\n",
       "<polygon fill=\"black\" stroke=\"black\" points=\"194.08,-77 204.08,-73.5 194.08,-70 194.08,-77\"/>\n",
       "</g>\n",
       "<!-- 4511907168 -->\n",
       "<g id=\"node4\" class=\"node\">\n",
       "<title>4511907168</title>\n",
       "<polygon fill=\"none\" stroke=\"black\" points=\"205.75,-0.5 205.75,-36.5 285.5,-36.5 285.5,-0.5 205.75,-0.5\"/>\n",
       "<text text-anchor=\"middle\" x=\"245.62\" y=\"-13.7\" font-family=\"Times,serif\" font-size=\"14.00\">data 3.0000</text>\n",
       "</g>\n",
       "<!-- 4511907168&#45;&gt;4510486000+ -->\n",
       "<g id=\"edge3\" class=\"edge\">\n",
       "<title>4511907168&#45;&gt;4510486000+</title>\n",
       "<path fill=\"none\" stroke=\"black\" d=\"M285.91,-29.02C294.51,-31.32 303.56,-33.74 312,-36\"/>\n",
       "<polygon fill=\"black\" stroke=\"black\" points=\"311,-39.35 321.56,-38.56 312.81,-32.59 311,-39.35\"/>\n",
       "</g>\n",
       "<!-- 4511952848 -->\n",
       "<g id=\"node5\" class=\"node\">\n",
       "<title>4511952848</title>\n",
       "<polygon fill=\"none\" stroke=\"black\" points=\"0,-28.5 0,-64.5 79.75,-64.5 79.75,-28.5 0,-28.5\"/>\n",
       "<text text-anchor=\"middle\" x=\"39.88\" y=\"-41.7\" font-family=\"Times,serif\" font-size=\"14.00\">data 1.0000</text>\n",
       "</g>\n",
       "<!-- 4511952848&#45;&gt;4512410400* -->\n",
       "<g id=\"edge6\" class=\"edge\">\n",
       "<title>4511952848&#45;&gt;4512410400*</title>\n",
       "<path fill=\"none\" stroke=\"black\" d=\"M80.16,-57.02C88.76,-59.32 97.81,-61.74 106.25,-64\"/>\n",
       "<polygon fill=\"black\" stroke=\"black\" points=\"105.25,-67.35 115.81,-66.56 107.06,-60.59 105.25,-67.35\"/>\n",
       "</g>\n",
       "<!-- 4510486000 -->\n",
       "<g id=\"node6\" class=\"node\">\n",
       "<title>4510486000</title>\n",
       "<polygon fill=\"none\" stroke=\"black\" points=\"411.5,-27.5 411.5,-63.5 491.25,-63.5 491.25,-27.5 411.5,-27.5\"/>\n",
       "<text text-anchor=\"middle\" x=\"451.38\" y=\"-40.7\" font-family=\"Times,serif\" font-size=\"14.00\">data 5.0000</text>\n",
       "</g>\n",
       "<!-- 4510486000+&#45;&gt;4510486000 -->\n",
       "<g id=\"edge2\" class=\"edge\">\n",
       "<title>4510486000+&#45;&gt;4510486000</title>\n",
       "<path fill=\"none\" stroke=\"black\" d=\"M375.74,-45.5C383.21,-45.5 391.6,-45.5 399.99,-45.5\"/>\n",
       "<polygon fill=\"black\" stroke=\"black\" points=\"399.83,-49 409.83,-45.5 399.83,-42 399.83,-49\"/>\n",
       "</g>\n",
       "</g>\n",
       "</svg>\n"
      ],
      "text/plain": [
       "<graphviz.graphs.Digraph at 0x10da14160>"
      ]
     },
     "metadata": {},
     "output_type": "display_data"
    }
   ],
   "source": [
    "dot = draw_dot(D)\n",
    "display(dot)"
   ]
  },
  {
   "cell_type": "markdown",
   "metadata": {},
   "source": [
    "# Implementing autograd"
   ]
  },
  {
   "cell_type": "markdown",
   "metadata": {},
   "source": [
    "- We will use lambda functions.\n",
    "- They are inline functions, not available in global scope, used for simple operations and plug-and-play approach."
   ]
  },
  {
   "cell_type": "code",
   "execution_count": 32,
   "metadata": {},
   "outputs": [],
   "source": [
    "class Value:\n",
    "    \"\"\" stores a single scalar value and its gradient \"\"\"\n",
    "\n",
    "    def __init__(self, data, _children=(), _op=''):\n",
    "        self.data = data\n",
    "        self.grad = 0\n",
    "        # internal variables used for autograd graph construction\n",
    "        self._backward = lambda: None\n",
    "        self._prev = set(_children)\n",
    "        self._op = _op # the op that produced this node, for graphviz / debugging / etc\n",
    "\n",
    "    def __repr__(self):\n",
    "        return f\"Value(data={self.data})\"\n",
    "\n",
    "    def __add__(self, other):\n",
    "        other = other if isinstance(other, Value) else Value(other)\n",
    "        out = Value(self.data + other.data, (self, other), '+')\n",
    "\n",
    "        def _backward():\n",
    "            self.grad += out.grad\n",
    "            other.grad += out.grad\n",
    "        out._backward = _backward\n",
    "\n",
    "        return out\n",
    "\n",
    "    def __mul__(self, other):\n",
    "        other = other if isinstance(other, Value) else Value(other)\n",
    "        out = Value(self.data * other.data, (self, other), '*')\n",
    "\n",
    "        def _backward():\n",
    "            self.grad += other.data * out.grad\n",
    "            other.grad += self.data * out.grad\n",
    "        out._backward = _backward\n",
    "\n",
    "        return out\n",
    "\n",
    "    def __neg__(self): # -self\n",
    "        return self * -1\n",
    "\n",
    "    def __sub__(self, other): # self - other\n",
    "        return self + (-other)\n",
    "\n",
    "    def backward(self):\n",
    "\n",
    "        # topological order all of the children in the graph\n",
    "        # a topological sort is a graph traversal in which each node v is visited\n",
    "        # only after all its dependencies are visited. \n",
    "        topo = []\n",
    "        visited = set()\n",
    "        def build_topo(v):\n",
    "            if v not in visited:\n",
    "                visited.add(v)\n",
    "                for child in v._prev:\n",
    "                    build_topo(child)\n",
    "                topo.append(v)\n",
    "        build_topo(self)\n",
    "\n",
    "        # go one variable at a time and apply the chain rule to get its gradient\n",
    "        self.grad = 1\n",
    "        for v in reversed(topo):\n",
    "            v._backward()    "
   ]
  },
  {
   "cell_type": "code",
   "execution_count": 42,
   "metadata": {},
   "outputs": [],
   "source": [
    "from graphviz import Digraph\n",
    "def draw_dot(root, format='svg', rankdir='LR'):\n",
    "    \"\"\"\n",
    "    format: png | svg | ...\n",
    "    rankdir: TB (top to bottom graph) | LR (left to right)\n",
    "    \"\"\"\n",
    "    assert rankdir in ['LR', 'TB']\n",
    "    nodes, edges = trace(root)\n",
    "    dot = Digraph(format=format, graph_attr={'rankdir': rankdir}) #, node_attr={'rankdir': 'TB'})\n",
    "\n",
    "    for n in nodes:\n",
    "        dot.node(name=str(id(n)), label = \"{ data %.4f | grad %.4f }\" % (n.data, n.grad), shape='record')\n",
    "        if n._op:\n",
    "            dot.node(name=str(id(n)) + n._op, label=n._op)\n",
    "            dot.edge(str(id(n)) + n._op, str(id(n)))\n",
    "\n",
    "    for n1, n2 in edges:\n",
    "        dot.edge(str(id(n1)), str(id(n2)) + n2._op)\n",
    "\n",
    "    return dot\n"
   ]
  },
  {
   "cell_type": "code",
   "execution_count": 39,
   "metadata": {},
   "outputs": [],
   "source": [
    "A = Value(1)\n",
    "B = Value(2)\n",
    "C = Value(3)\n",
    "\n",
    "D = A * B + C"
   ]
  },
  {
   "cell_type": "code",
   "execution_count": 40,
   "metadata": {},
   "outputs": [],
   "source": [
    "D.backward()"
   ]
  },
  {
   "cell_type": "code",
   "execution_count": 43,
   "metadata": {},
   "outputs": [
    {
     "data": {
      "image/svg+xml": [
       "<?xml version=\"1.0\" encoding=\"UTF-8\" standalone=\"no\"?>\n",
       "<!DOCTYPE svg PUBLIC \"-//W3C//DTD SVG 1.1//EN\"\n",
       " \"http://www.w3.org/Graphics/SVG/1.1/DTD/svg11.dtd\">\n",
       "<!-- Generated by graphviz version 9.0.0 (20230911.1827)\n",
       " -->\n",
       "<!-- Pages: 1 -->\n",
       "<svg width=\"743pt\" height=\"128pt\"\n",
       " viewBox=\"0.00 0.00 743.00 128.00\" xmlns=\"http://www.w3.org/2000/svg\" xmlns:xlink=\"http://www.w3.org/1999/xlink\">\n",
       "<g id=\"graph0\" class=\"graph\" transform=\"scale(1 1) rotate(0) translate(4 124)\">\n",
       "<polygon fill=\"white\" stroke=\"none\" points=\"-4,4 -4,-124 739,-124 739,4 -4,4\"/>\n",
       "<!-- 4523641392 -->\n",
       "<g id=\"node1\" class=\"node\">\n",
       "<title>4523641392</title>\n",
       "<polygon fill=\"none\" stroke=\"black\" points=\"0,-83.5 0,-119.5 161,-119.5 161,-83.5 0,-83.5\"/>\n",
       "<text text-anchor=\"middle\" x=\"39.88\" y=\"-96.7\" font-family=\"Times,serif\" font-size=\"14.00\">data 2.0000</text>\n",
       "<polyline fill=\"none\" stroke=\"black\" points=\"79.75,-84 79.75,-119.5\"/>\n",
       "<text text-anchor=\"middle\" x=\"120.38\" y=\"-96.7\" font-family=\"Times,serif\" font-size=\"14.00\">grad 1.0000</text>\n",
       "</g>\n",
       "<!-- 4523638992* -->\n",
       "<g id=\"node4\" class=\"node\">\n",
       "<title>4523638992*</title>\n",
       "<ellipse fill=\"none\" stroke=\"black\" cx=\"224\" cy=\"-73.5\" rx=\"27\" ry=\"18\"/>\n",
       "<text text-anchor=\"middle\" x=\"224\" y=\"-68.45\" font-family=\"Times,serif\" font-size=\"14.00\">*</text>\n",
       "</g>\n",
       "<!-- 4523641392&#45;&gt;4523638992* -->\n",
       "<g id=\"edge5\" class=\"edge\">\n",
       "<title>4523641392&#45;&gt;4523638992*</title>\n",
       "<path fill=\"none\" stroke=\"black\" d=\"M161.35,-85.7C170.09,-83.97 178.64,-82.28 186.46,-80.73\"/>\n",
       "<polygon fill=\"black\" stroke=\"black\" points=\"187.08,-84.18 196.21,-78.8 185.72,-77.31 187.08,-84.18\"/>\n",
       "</g>\n",
       "<!-- 4516293312 -->\n",
       "<g id=\"node2\" class=\"node\">\n",
       "<title>4516293312</title>\n",
       "<polygon fill=\"none\" stroke=\"black\" points=\"0,-28.5 0,-64.5 161,-64.5 161,-28.5 0,-28.5\"/>\n",
       "<text text-anchor=\"middle\" x=\"39.88\" y=\"-41.7\" font-family=\"Times,serif\" font-size=\"14.00\">data 1.0000</text>\n",
       "<polyline fill=\"none\" stroke=\"black\" points=\"79.75,-29 79.75,-64.5\"/>\n",
       "<text text-anchor=\"middle\" x=\"120.38\" y=\"-41.7\" font-family=\"Times,serif\" font-size=\"14.00\">grad 2.0000</text>\n",
       "</g>\n",
       "<!-- 4516293312&#45;&gt;4523638992* -->\n",
       "<g id=\"edge6\" class=\"edge\">\n",
       "<title>4516293312&#45;&gt;4523638992*</title>\n",
       "<path fill=\"none\" stroke=\"black\" d=\"M161.35,-61.74C170.09,-63.4 178.64,-65.04 186.46,-66.53\"/>\n",
       "<polygon fill=\"black\" stroke=\"black\" points=\"185.73,-69.95 196.21,-68.39 187.04,-63.08 185.73,-69.95\"/>\n",
       "</g>\n",
       "<!-- 4523638992 -->\n",
       "<g id=\"node3\" class=\"node\">\n",
       "<title>4523638992</title>\n",
       "<polygon fill=\"none\" stroke=\"black\" points=\"287,-55.5 287,-91.5 448,-91.5 448,-55.5 287,-55.5\"/>\n",
       "<text text-anchor=\"middle\" x=\"326.88\" y=\"-68.7\" font-family=\"Times,serif\" font-size=\"14.00\">data 2.0000</text>\n",
       "<polyline fill=\"none\" stroke=\"black\" points=\"366.75,-56 366.75,-91.5\"/>\n",
       "<text text-anchor=\"middle\" x=\"407.38\" y=\"-68.7\" font-family=\"Times,serif\" font-size=\"14.00\">grad 1.0000</text>\n",
       "</g>\n",
       "<!-- 4523639184+ -->\n",
       "<g id=\"node7\" class=\"node\">\n",
       "<title>4523639184+</title>\n",
       "<ellipse fill=\"none\" stroke=\"black\" cx=\"511\" cy=\"-45.5\" rx=\"27\" ry=\"18\"/>\n",
       "<text text-anchor=\"middle\" x=\"511\" y=\"-40.45\" font-family=\"Times,serif\" font-size=\"14.00\">+</text>\n",
       "</g>\n",
       "<!-- 4523638992&#45;&gt;4523639184+ -->\n",
       "<g id=\"edge3\" class=\"edge\">\n",
       "<title>4523638992&#45;&gt;4523639184+</title>\n",
       "<path fill=\"none\" stroke=\"black\" d=\"M448.35,-57.7C457.09,-55.97 465.64,-54.28 473.46,-52.73\"/>\n",
       "<polygon fill=\"black\" stroke=\"black\" points=\"474.08,-56.18 483.21,-50.8 472.72,-49.31 474.08,-56.18\"/>\n",
       "</g>\n",
       "<!-- 4523638992*&#45;&gt;4523638992 -->\n",
       "<g id=\"edge1\" class=\"edge\">\n",
       "<title>4523638992*&#45;&gt;4523638992</title>\n",
       "<path fill=\"none\" stroke=\"black\" d=\"M251.28,-73.5C258.4,-73.5 266.52,-73.5 275.08,-73.5\"/>\n",
       "<polygon fill=\"black\" stroke=\"black\" points=\"275.04,-77 285.04,-73.5 275.04,-70 275.04,-77\"/>\n",
       "</g>\n",
       "<!-- 4512110912 -->\n",
       "<g id=\"node5\" class=\"node\">\n",
       "<title>4512110912</title>\n",
       "<polygon fill=\"none\" stroke=\"black\" points=\"287,-0.5 287,-36.5 448,-36.5 448,-0.5 287,-0.5\"/>\n",
       "<text text-anchor=\"middle\" x=\"326.88\" y=\"-13.7\" font-family=\"Times,serif\" font-size=\"14.00\">data 3.0000</text>\n",
       "<polyline fill=\"none\" stroke=\"black\" points=\"366.75,-1 366.75,-36.5\"/>\n",
       "<text text-anchor=\"middle\" x=\"407.38\" y=\"-13.7\" font-family=\"Times,serif\" font-size=\"14.00\">grad 1.0000</text>\n",
       "</g>\n",
       "<!-- 4512110912&#45;&gt;4523639184+ -->\n",
       "<g id=\"edge4\" class=\"edge\">\n",
       "<title>4512110912&#45;&gt;4523639184+</title>\n",
       "<path fill=\"none\" stroke=\"black\" d=\"M448.35,-33.74C457.09,-35.4 465.64,-37.04 473.46,-38.53\"/>\n",
       "<polygon fill=\"black\" stroke=\"black\" points=\"472.73,-41.95 483.21,-40.39 474.04,-35.08 472.73,-41.95\"/>\n",
       "</g>\n",
       "<!-- 4523639184 -->\n",
       "<g id=\"node6\" class=\"node\">\n",
       "<title>4523639184</title>\n",
       "<polygon fill=\"none\" stroke=\"black\" points=\"574,-27.5 574,-63.5 735,-63.5 735,-27.5 574,-27.5\"/>\n",
       "<text text-anchor=\"middle\" x=\"613.88\" y=\"-40.7\" font-family=\"Times,serif\" font-size=\"14.00\">data 5.0000</text>\n",
       "<polyline fill=\"none\" stroke=\"black\" points=\"653.75,-28 653.75,-63.5\"/>\n",
       "<text text-anchor=\"middle\" x=\"694.38\" y=\"-40.7\" font-family=\"Times,serif\" font-size=\"14.00\">grad 1.0000</text>\n",
       "</g>\n",
       "<!-- 4523639184+&#45;&gt;4523639184 -->\n",
       "<g id=\"edge2\" class=\"edge\">\n",
       "<title>4523639184+&#45;&gt;4523639184</title>\n",
       "<path fill=\"none\" stroke=\"black\" d=\"M538.28,-45.5C545.4,-45.5 553.52,-45.5 562.08,-45.5\"/>\n",
       "<polygon fill=\"black\" stroke=\"black\" points=\"562.04,-49 572.04,-45.5 562.04,-42 562.04,-49\"/>\n",
       "</g>\n",
       "</g>\n",
       "</svg>\n"
      ],
      "text/plain": [
       "<graphviz.graphs.Digraph at 0x10d9d8460>"
      ]
     },
     "execution_count": 43,
     "metadata": {},
     "output_type": "execute_result"
    }
   ],
   "source": [
    "draw_dot(D)"
   ]
  },
  {
   "cell_type": "code",
   "execution_count": null,
   "metadata": {},
   "outputs": [],
   "source": []
  }
 ],
 "metadata": {
  "kernelspec": {
   "display_name": "uptodate-data-stack",
   "language": "python",
   "name": "uptodate-data-stack"
  },
  "language_info": {
   "codemirror_mode": {
    "name": "ipython",
    "version": 3
   },
   "file_extension": ".py",
   "mimetype": "text/x-python",
   "name": "python",
   "nbconvert_exporter": "python",
   "pygments_lexer": "ipython3",
   "version": "3.8.12"
  }
 },
 "nbformat": 4,
 "nbformat_minor": 2
}

{
 "cells": [
  {
   "cell_type": "markdown",
   "metadata": {
    "slideshow": {
     "slide_type": "slide"
    }
   },
   "source": [
    "# Tech skills part 2: Editor\n",
    "\n",
    "- git\n",
    "\n",
    "- **code editors**\n",
    "\n",
    "- virtual envs (sharing dependencies on other libraries in team)\n",
    "\n",
    "- python\n",
    "    - scientific stack\n",
    "    - basic code quality best practices"
   ]
  },
  {
   "cell_type": "markdown",
   "metadata": {
    "slideshow": {
     "slide_type": "slide"
    }
   },
   "source": [
    "# Editors\n",
    "\n",
    "How to write and prototype the code?"
   ]
  },
  {
   "cell_type": "markdown",
   "metadata": {
    "slideshow": {
     "slide_type": "slide"
    }
   },
   "source": [
    "# Lightweight universal editor or IDE?\n",
    "## Lightweight editor\n",
    "- easier to get into (not many features without extensions, focus on UX)\n",
    "- can be used for everything with extensions\n",
    "\n",
    "## IDEs\n",
    "- Optimized for some usecase (e.g. Python development)\n",
    "- Fucntionality goes deeper\n",
    "- Takes more time to load, feels like a space shuttle flight deck"
   ]
  },
  {
   "cell_type": "markdown",
   "metadata": {
    "slideshow": {
     "slide_type": "slide"
    }
   },
   "source": [
    "## Visual Studio Code\n",
    "- editor category\n",
    "- personal preference, feel free to use whatever You want"
   ]
  },
  {
   "cell_type": "markdown",
   "metadata": {
    "slideshow": {
     "slide_type": "subslide"
    }
   },
   "source": [
    "### Main shortcuts\n",
    "\n",
    "![image.png](pics/editors/vs-code-shortcuts.png)"
   ]
  },
  {
   "cell_type": "markdown",
   "metadata": {},
   "source": [
    "#### Show All Commands\n",
    "Don't need to remember shortcuts, everything command can be found\n",
    "\n",
    "#### Go to File\n",
    "Don't need to remember folder strucutre, every file can be found\n",
    "    \n",
    "#### Find in Files\n",
    "Fast find and replace in the whole project"
   ]
  },
  {
   "cell_type": "markdown",
   "metadata": {
    "slideshow": {
     "slide_type": "subslide"
    }
   },
   "source": [
    "### python extension\n",
    "![image.png](pics/editors/vs-code-python-ext1.png)"
   ]
  },
  {
   "cell_type": "markdown",
   "metadata": {
    "slideshow": {
     "slide_type": "subslide"
    }
   },
   "source": [
    "![image.png](pics/editors/vs-code-python-ext2.png)"
   ]
  },
  {
   "cell_type": "markdown",
   "metadata": {
    "slideshow": {
     "slide_type": "subslide"
    }
   },
   "source": [
    "- Adds support for Python code completion\n",
    "- Adds many useful Python-specific commands (more on that later)"
   ]
  },
  {
   "cell_type": "markdown",
   "metadata": {
    "slideshow": {
     "slide_type": "subslide"
    }
   },
   "source": [
    "### Helpful intro screen\n",
    "- Always open folder with the project, easier to find files and search in files\n",
    "\n",
    "![image.png](pics/editors/vs-code-intro-screen.png)"
   ]
  },
  {
   "cell_type": "markdown",
   "metadata": {
    "slideshow": {
     "slide_type": "subslide"
    }
   },
   "source": [
    "### Running Python code\n",
    "![image.png](pics/editors/vs-code-run-commands.png)"
   ]
  },
  {
   "cell_type": "markdown",
   "metadata": {
    "slideshow": {
     "slide_type": "subslide"
    }
   },
   "source": [
    "#### Run Python File in Terminal\n",
    "- Opens integrated terminal and runs the file\n",
    "\n",
    "#### Run Current File in Python Interactive Window\n",
    "- Opens integrated terminal and runs the file and\n",
    "- also doesn't exit the execution and allows for debugging objects in the memory"
   ]
  },
  {
   "cell_type": "markdown",
   "metadata": {
    "slideshow": {
     "slide_type": "subslide"
    }
   },
   "source": [
    "### Running Python code\n",
    "![image.png](pics/editors/vs-code-run-commands.png)"
   ]
  },
  {
   "cell_type": "markdown",
   "metadata": {
    "slideshow": {
     "slide_type": "subslide"
    }
   },
   "source": [
    "### Integrated terminal\n",
    "![image.png](pics/editors/vs-code-integrated-terminal.png)\n"
   ]
  },
  {
   "cell_type": "markdown",
   "metadata": {
    "slideshow": {
     "slide_type": "fragment"
    }
   },
   "source": [
    "- You can use it to run Python files\n",
    "- Also can be used for managing git repo"
   ]
  },
  {
   "cell_type": "markdown",
   "metadata": {
    "slideshow": {
     "slide_type": "subslide"
    }
   },
   "source": [
    "### Integrated git\n",
    "![image.png](pics/editors/vs-code-git1.png)"
   ]
  },
  {
   "cell_type": "markdown",
   "metadata": {
    "slideshow": {
     "slide_type": "subslide"
    }
   },
   "source": [
    "![image.png](pics/editors/vs-code-git2.png)"
   ]
  },
  {
   "cell_type": "markdown",
   "metadata": {
    "slideshow": {
     "slide_type": "slide"
    }
   },
   "source": [
    "## Other Editors\n",
    "- Atom https://atom.io\n",
    "    - Similar to VS code, even more git integration\n",
    "- Sublime Text https://www.sublimetext.com\n",
    "    - more performant, adding extensions more difficult\n",
    "\n",
    "# IDEs\n",
    "- Pycharm https://www.jetbrains.com/pycharm/"
   ]
  },
  {
   "cell_type": "markdown",
   "metadata": {
    "slideshow": {
     "slide_type": "slide"
    }
   },
   "source": [
    "# Jupyter Notebook\n",
    "- Probably **best tool for prototyping and presentation** (that's why all presentation are done in it)\n",
    "\n",
    "- 🚨☠️🚨 **Sucks hard for version control** and collaboration 🚨☠️🚨\n",
    "    - stop using early and migrate to code ! "
   ]
  },
  {
   "cell_type": "markdown",
   "metadata": {
    "slideshow": {
     "slide_type": "subslide"
    }
   },
   "source": [
    "## Installation\n",
    "- https://jupyter.org/install\n",
    "- section *Getting started with the classic Jupyter Notebook*"
   ]
  },
  {
   "cell_type": "markdown",
   "metadata": {
    "slideshow": {
     "slide_type": "subslide"
    }
   },
   "source": [
    "## Features\n",
    "- execution of Python code ad hoc\n",
    "    - Python interpreter running continuously in the background\n",
    "- code separated in cells that can be run separatelly or together\n",
    "- allows for easy preview of tabular data or pictures"
   ]
  },
  {
   "cell_type": "markdown",
   "metadata": {
    "slideshow": {
     "slide_type": "subslide"
    }
   },
   "source": [
    "## Demo\n",
    "Play with [demo-notebook.ipynb](demo-notebook.ipynb)"
   ]
  },
  {
   "cell_type": "markdown",
   "metadata": {
    "slideshow": {
     "slide_type": "subslide"
    }
   },
   "source": [
    "## Further reading\n",
    "\n",
    "### Jupyterlab\n",
    "- https://jupyterlab.readthedocs.io/en/stable/\n",
    "- IDE like environment for notebooks\n",
    "- Probably future of Jupyter, but still kinda fresh"
   ]
  },
  {
   "cell_type": "markdown",
   "metadata": {
    "slideshow": {
     "slide_type": "subslide"
    }
   },
   "source": [
    "![jupyter lab.png](pics/editors/jupyterlab.png)"
   ]
  },
  {
   "cell_type": "markdown",
   "metadata": {
    "slideshow": {
     "slide_type": "fragment"
    }
   },
   "source": [
    "### Using multiple kerneles\n",
    "- https://medium.com/@eleroy/jupyter-notebook-in-a-virtual-environment-virtualenv-8f3c3448247"
   ]
  },
  {
   "cell_type": "markdown",
   "metadata": {},
   "source": [
    "### Google Colab\n",
    "https://colab.research.google.com/notebooks\n",
    "- Google version of notebooks in the cloud\n",
    "- good compute with built-in sharing\n",
    "- need to be always on, it's google"
   ]
  },
  {
   "cell_type": "markdown",
   "metadata": {
    "slideshow": {
     "slide_type": "slide"
    }
   },
   "source": [
    "# Tech skills part 2: Editor\n",
    "\n",
    "- git\n",
    "\n",
    "- code editors\n",
    "\n",
    "- **virtual envs**\n",
    "\n",
    "- python\n",
    "    - scientific stack\n",
    "    - basic code quality best practices"
   ]
  },
  {
   "cell_type": "markdown",
   "metadata": {
    "slideshow": {
     "slide_type": "slide"
    }
   },
   "source": [
    "# Running the code\n",
    "\n",
    "Working in the command line, handling dependencies on other libraries."
   ]
  },
  {
   "cell_type": "markdown",
   "metadata": {
    "slideshow": {
     "slide_type": "slide"
    }
   },
   "source": [
    "## CLI (Command Line Interface)\n",
    "\n",
    "- Windows:\n",
    "    - cmder: console emulator https://cmder.net\n",
    "    - linux subsystem https://docs.microsoft.com/en-us/windows/wsl/install-win10#main\n",
    "- Mac os:\n",
    "    - terminal (iTerm 2 if you want a lot of customization)\n",
    "- Linux:\n",
    "    - lol, you can take a break"
   ]
  },
  {
   "cell_type": "markdown",
   "metadata": {
    "slideshow": {
     "slide_type": "subslide"
    }
   },
   "source": [
    "- ls\n",
    "    - list files and folers in current location\n",
    "- cd\n",
    "    - go to specified directory"
   ]
  },
  {
   "cell_type": "markdown",
   "metadata": {
    "slideshow": {
     "slide_type": "subslide"
    }
   },
   "source": [
    "- mv\n",
    "    - move files or folders to new location\n",
    "- cp\n",
    "    - copy filers or folders to new location\n",
    "- rm -r\n",
    "    - recursively remove files and locations"
   ]
  },
  {
   "cell_type": "markdown",
   "metadata": {
    "slideshow": {
     "slide_type": "subslide"
    }
   },
   "source": [
    "- which\n",
    "    - checks what executable is called for some command\n",
    "    ```sh\n",
    "    ➔ which python\n",
    "    /usr/local/bin/python\n",
    "    ```\n",
    "    (useful to understand e.g. which python and pip versions are mapped to the commands)"
   ]
  },
  {
   "cell_type": "markdown",
   "metadata": {
    "slideshow": {
     "slide_type": "slide"
    }
   },
   "source": [
    "## Virtual envs"
   ]
  },
  {
   "cell_type": "markdown",
   "metadata": {},
   "source": [
    "TODO\n",
    "- popsat knihovny, pip\n",
    "- ukazka proc je to treba"
   ]
  },
  {
   "cell_type": "markdown",
   "metadata": {},
   "source": [
    "https://xkcd.com/1987/"
   ]
  },
  {
   "cell_type": "markdown",
   "metadata": {},
   "source": [
    "https://realpython.com/python-virtual-environments-a-primer/\n",
    "\n",
    "```sh\n",
    "python3 -m venv <DIR>\n",
    "source <DIR>/bin/activate\n",
    "```"
   ]
  },
  {
   "cell_type": "markdown",
   "metadata": {},
   "source": [
    "- deactivating\n",
    "- deleting is just removing foldrer\n",
    "- freezing to requirements file\n",
    "- creating from reuqirements file\n",
    "- adding to jupyter notebook as a kernel"
   ]
  },
  {
   "cell_type": "markdown",
   "metadata": {
    "slideshow": {
     "slide_type": "slide"
    }
   },
   "source": [
    "# Python data scientists tool kit\n",
    "\n",
    "Using the standard libraries for manipulating data and running off-the-shelf models."
   ]
  },
  {
   "cell_type": "markdown",
   "metadata": {},
   "source": [
    "- pandas\n",
    "    - load file\n",
    "    - look at file\n",
    "    - group bys\n",
    "    - plots with matplotlib inline\n",
    "    - apply, map\n",
    "- numpy\n",
    "    - indexing\n",
    "    - ...?\n",
    "- scikit\n",
    "    - .fit, .predict\n",
    "    - some examples"
   ]
  },
  {
   "cell_type": "markdown",
   "metadata": {},
   "source": [
    "# Maintainable Code"
   ]
  },
  {
   "cell_type": "markdown",
   "metadata": {
    "slideshow": {
     "slide_type": "slide"
    }
   },
   "source": [
    "# Homework\n",
    "\n",
    "Putting it all together."
   ]
  },
  {
   "cell_type": "markdown",
   "metadata": {},
   "source": [
    "1. Create a public git repo.\n",
    "2. Add collaborators from the team.\n",
    "3. Everybody from a team adds a small function or prints something that requires some library to the same file."
   ]
  }
 ],
 "metadata": {
  "celltoolbar": "Slideshow",
  "hide_input": false,
  "kernelspec": {
   "display_name": "Python 3",
   "language": "python",
   "name": "python3"
  },
  "language_info": {
   "codemirror_mode": {
    "name": "ipython",
    "version": 3
   },
   "file_extension": ".py",
   "mimetype": "text/x-python",
   "name": "python",
   "nbconvert_exporter": "python",
   "pygments_lexer": "ipython3",
   "version": "3.7.4"
  },
  "toc": {
   "nav_menu": {},
   "number_sections": true,
   "sideBar": true,
   "skip_h1_title": false,
   "toc_cell": false,
   "toc_position": {},
   "toc_section_display": "block",
   "toc_window_display": false
  },
  "varInspector": {
   "cols": {
    "lenName": 16,
    "lenType": 16,
    "lenVar": 40
   },
   "kernels_config": {
    "python": {
     "delete_cmd_postfix": "",
     "delete_cmd_prefix": "del ",
     "library": "var_list.py",
     "varRefreshCmd": "print(var_dic_list())"
    },
    "r": {
     "delete_cmd_postfix": ") ",
     "delete_cmd_prefix": "rm(",
     "library": "var_list.r",
     "varRefreshCmd": "cat(var_dic_list()) "
    }
   },
   "types_to_exclude": [
    "module",
    "function",
    "builtin_function_or_method",
    "instance",
    "_Feature"
   ],
   "window_display": false
  }
 },
 "nbformat": 4,
 "nbformat_minor": 2
}

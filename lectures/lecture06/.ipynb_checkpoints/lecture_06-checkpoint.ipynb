{
 "cells": [
  {
   "cell_type": "code",
   "execution_count": 256,
   "metadata": {},
   "outputs": [],
   "source": [
    "import pandas as pd\n",
    "from sklearn.model_selection import train_test_split, GridSearchCV\n",
    "from sklearn import svm\n",
    "from sklearn.linear_model import LinearRegression, ElasticNet, ElasticNetCV\n",
    "from sklearn.metrics import SCORERS, mean_squared_error, mean_absolute_error\n",
    "from sklearn.preprocessing import OneHotEncoder, StandardScaler, MinMaxScaler, RobustScaler\n",
    "from sklearn.pipeline import Pipeline\n",
    "from sklearn.compose import ColumnTransformer\n",
    "from sklearn.feature_selection import SelectKBest\n",
    "from sklearn.decomposition import PCA\n",
    "from sklearn.tree import DecisionTreeRegressor, export_graphviz\n",
    "from sklearn.ensemble import RandomForestRegressor, GradientBoostingRegressor\n",
    "from sklearn.impute import SimpleImputer\n",
    "import plotly.express as px\n",
    "import plotly.graph_objects as go\n",
    "from catboost import CatBoostRegressor, Pool\n",
    "\n",
    "import numpy as np\n",
    "from math import sqrt\n",
    "pd.set_option(\"display.max_columns\", 999)"
   ]
  },
  {
   "cell_type": "markdown",
   "metadata": {},
   "source": [
    "# ML Regression techniques"
   ]
  },
  {
   "cell_type": "markdown",
   "metadata": {},
   "source": [
    "## Regression problem\n",
    "\n",
    "#### History :)\n",
    "The term \"regression\" was coined by Francis Galton in the nineteenth century to describe a biological phenomenon. The phenomenon was that the heights of descendants of tall ancestors tend to regress down towards a normal average (a phenomenon also known as regression toward the mean).\n",
    "\n",
    "#### Definition\n",
    "Regression predictive modeling is the task of approximating a mapping function from input variables to a numerical output variable.\n",
    "\n",
    "#### Most common regression models\n",
    "* Linear Regression\n",
    "    * Lasso\n",
    "    * Ridge\n",
    "    * ElasticNet\n",
    "* Generalized Linear Regression\n",
    "    * Logistic\n",
    "    * Poisson\n",
    "* Decision Trees\n",
    "* Ensemble methods\n",
    "    * Random Forests\n",
    "    * Gradient Boosting\n",
    "* Neural Networks\n",
    "* Bayesian Regression\n",
    "* SVM"
   ]
  },
  {
   "cell_type": "markdown",
   "metadata": {},
   "source": [
    "# High Variance vs. High Bias problem"
   ]
  },
  {
   "cell_type": "markdown",
   "metadata": {},
   "source": [
    "## High Bias\n",
    "Bias is the algorithm’s tendency to consistently learn the wrong thing by not taking into account all the information in the data (underfitting)\n",
    "\n",
    "#### Proposals\n",
    "* Try more complex model.\n",
    "* Add features.\n",
    "\n",
    "## High Variance\n",
    "Variance is the algorithm’s tendency to learn random things irrespective of the real signal by fitting highly flexible models that follow the error/noise in the data too closely (overfitting).\n",
    "\n",
    "#### Proposals\n",
    "* Try simpler model.\n",
    "* Remove / reduce some features.\n",
    "* Add regularization parameters."
   ]
  },
  {
   "cell_type": "markdown",
   "metadata": {},
   "source": [
    "\n",
    "<img src=\"img/Bias-Variance-Tradeoff-In-Machine-Learning.png\" style=\"height:600px\">"
   ]
  },
  {
   "cell_type": "markdown",
   "metadata": {},
   "source": [
    "## ElasticNet Model a.k.a. From LM to ML"
   ]
  },
  {
   "cell_type": "markdown",
   "metadata": {},
   "source": [
    "### Motivation\n",
    "When we have lots of features, we want to be able to penalize their size and number and thus balance the Bias/Variance problem. \n",
    "\n",
    "Ideally we want to do this by some neat parametrization.\n",
    "\n",
    "\n",
    "### Regularized loss function !\n",
    "\n",
    "$L(\\hat{y}, y)_{reg} = L(\\hat{y}, y) + \\lambda * R(\\beta)$.\n",
    "\n",
    "##### The loss function for ElasticNet regression is\n",
    "$L(\\hat{y}, y)_{lasso} = \\sum_{p}{(\\hat{y}-y)^2} + \\lambda * \\big[(1-\\alpha)/2\\sum_{p}{|\\beta|} + \\alpha \\sum_{p}{\\beta ^2}\\big]$, where $\\lambda \\in N, \\alpha \\in [0, 1]$."
   ]
  },
  {
   "cell_type": "markdown",
   "metadata": {},
   "source": [
    "<img src=\"img/lasso_vs_ridge.png\" />"
   ]
  },
  {
   "cell_type": "markdown",
   "metadata": {},
   "source": [
    "## But how is $\\lambda$ set? => CrossValidation!"
   ]
  },
  {
   "cell_type": "markdown",
   "metadata": {},
   "source": [
    "<img src=\"img/cv_mse.png\" />"
   ]
  },
  {
   "cell_type": "markdown",
   "metadata": {},
   "source": [
    "# Back to the code"
   ]
  },
  {
   "cell_type": "code",
   "execution_count": 12,
   "metadata": {},
   "outputs": [],
   "source": [
    "# define Root MSE function\n",
    "def rmse(x, y):\n",
    "    return sqrt(mean_squared_error(x, y))"
   ]
  },
  {
   "cell_type": "code",
   "execution_count": 72,
   "metadata": {},
   "outputs": [],
   "source": [
    "# load the dataset into a Pandas dataframe\n",
    "df = pd.read_csv('data/attrition.csv')\n",
    "\n",
    "# drop columns with \n",
    "df.drop(['EmployeeNumber', 'Attrition', 'Over18', 'StandardHours', 'EmployeeCount'], axis=1, inplace=True)"
   ]
  },
  {
   "cell_type": "code",
   "execution_count": 73,
   "metadata": {},
   "outputs": [
    {
     "data": {
      "text/plain": [
       "Index(['Age', 'BusinessTravel', 'DailyRate', 'Department', 'DistanceFromHome',\n",
       "       'Education', 'EducationField', 'EnvironmentSatisfaction', 'Gender',\n",
       "       'HourlyRate', 'JobInvolvement', 'JobLevel', 'JobRole',\n",
       "       'JobSatisfaction', 'MaritalStatus', 'MonthlyIncome', 'MonthlyRate',\n",
       "       'NumCompaniesWorked', 'OverTime', 'PercentSalaryHike',\n",
       "       'PerformanceRating', 'RelationshipSatisfaction', 'StockOptionLevel',\n",
       "       'TotalWorkingYears', 'TrainingTimesLastYear', 'WorkLifeBalance',\n",
       "       'YearsAtCompany', 'YearsInCurrentRole', 'YearsSinceLastPromotion',\n",
       "       'YearsWithCurrManager'],\n",
       "      dtype='object')"
      ]
     },
     "execution_count": 73,
     "metadata": {},
     "output_type": "execute_result"
    }
   ],
   "source": [
    "# what columns fo we have\n",
    "df.columns"
   ]
  },
  {
   "cell_type": "code",
   "execution_count": 74,
   "metadata": {},
   "outputs": [],
   "source": [
    "# lets have a look at a scatter matrix plot\n",
    "inspect_cols = ['MonthlyIncome','EducationField',\n",
    "       'JobLevel', 'StockOptionLevel', 'TotalWorkingYears',\n",
    "       'TrainingTimesLastYear', 'WorkLifeBalance', 'YearsAtCompany',\n",
    "       'YearsInCurrentRole', 'YearsSinceLastPromotion',\n",
    "       'YearsWithCurrManager']\n",
    "\n",
    "# fig = px.scatter_matrix(df[inspect_cols])\n",
    "# # increase the resolution\n",
    "# fig.update_layout(\n",
    "#     autosize=False,\n",
    "#     width=2*1024,\n",
    "#     height=2*720,\n",
    "#     paper_bgcolor=\"LightSteelBlue\",\n",
    "# )\n",
    "# #plot the scatter matrix plot\n",
    "# fig.show()"
   ]
  },
  {
   "cell_type": "code",
   "execution_count": 75,
   "metadata": {},
   "outputs": [],
   "source": [
    "# lets make it some fun\n",
    "df.drop('JobLevel', axis=1, inplace=True)"
   ]
  },
  {
   "cell_type": "code",
   "execution_count": 76,
   "metadata": {},
   "outputs": [],
   "source": [
    "# select response variable and features\n",
    "target_col_name = 'MonthlyIncome'\n",
    "num_feature_cols = [\n",
    "        'Age', 'DailyRate','DistanceFromHome', 'Education',\n",
    "        'HourlyRate', 'EnvironmentSatisfaction', 'JobInvolvement',\n",
    "        'JobSatisfaction', 'NumCompaniesWorked', 'PercentSalaryHike',\n",
    "        'RelationshipSatisfaction', 'StockOptionLevel', 'PerformanceRating',\n",
    "        'TotalWorkingYears', 'TrainingTimesLastYear', 'WorkLifeBalance',\n",
    "        'YearsAtCompany', 'YearsInCurrentRole', 'YearsSinceLastPromotion',\n",
    "        'YearsWithCurrManager', 'MonthlyRate']\n",
    "cat_feature_cols = [x for x in df.columns if x not in num_feature_cols and x not in [target_col_name]]"
   ]
  },
  {
   "cell_type": "code",
   "execution_count": 77,
   "metadata": {},
   "outputs": [],
   "source": [
    "# cast numerical columns as float\n",
    "for col in num_feature_cols:\n",
    "    df[col] = df[col].astype(float)"
   ]
  },
  {
   "cell_type": "code",
   "execution_count": 78,
   "metadata": {},
   "outputs": [],
   "source": [
    "# create target array and numeric features dataframe\n",
    "df_target = np.ravel(df[[target_col_name]])\n",
    "df_features = df[num_feature_cols]"
   ]
  },
  {
   "cell_type": "code",
   "execution_count": 24,
   "metadata": {},
   "outputs": [],
   "source": [
    "\n"
   ]
  },
  {
   "cell_type": "code",
   "execution_count": 30,
   "metadata": {},
   "outputs": [],
   "source": [
    "# ALTERNATIVE REALITY\n",
    "from sklearn.datasets import load_boston\n",
    "boston = load_boston()\n",
    "data = pd.DataFrame(boston.data,columns=boston.feature_names)\n",
    "data = pd.concat([data,pd.Series(boston.target,name='MEDV')],axis=1)\n",
    "\n",
    "df_target = np.ravel(data.iloc[:,-1])\n",
    "df_features = data.iloc[:,:-1]"
   ]
  },
  {
   "cell_type": "code",
   "execution_count": 80,
   "metadata": {},
   "outputs": [],
   "source": [
    "# split the dataframe to train and test parts\n",
    "X_train, X_test, y_train, y_test = train_test_split(df_features, df_target, test_size=0.3, random_state=666)"
   ]
  },
  {
   "cell_type": "code",
   "execution_count": 87,
   "metadata": {},
   "outputs": [
    {
     "name": "stdout",
     "output_type": "stream",
     "text": [
      "Model rmse: 2969.246488009331 \n",
      "\n",
      "Model R2: 0.5913292923231421 \n",
      "\n",
      "Model coefs: [-22, 0, -14, -48, 0, -55, 29, 76, -9, 47, 94, 19, -844, 470, 15, 192, 45, 25, 53, -121, 0]\n"
     ]
    }
   ],
   "source": [
    "# fit simple linear regression\n",
    "m0 = LinearRegression().fit(X_train, y_train)\n",
    "m0_rmse = rmse(m0.predict(X_test), y_test)\n",
    "m0_r2 = m0.score(X_test, y_test)\n",
    "\n",
    "print(f\"Model rmse: {m0_rmse} \\n\")\n",
    "print(f\"Model R2: {m0_r2} \\n\")\n",
    "print(f\"Model coefs: {[int(x) for x in m0.coef_]}\")"
   ]
  },
  {
   "cell_type": "code",
   "execution_count": 96,
   "metadata": {},
   "outputs": [
    {
     "name": "stdout",
     "output_type": "stream",
     "text": [
      "Model rmse: 2955.164168268846 \n",
      "\n",
      "Model R2: 0.5951965255292877 \n",
      "\n",
      "Model coefs: [-17, 0, -14, -27, -1, -36, 19, 56, -3, -11, 65, 11, -79, 456, 12, 89, 51, 21, 50, -109, 0] \n",
      "\n",
      "Model hyper_params: {'alpha': 1, 'l1_ratio': 0.5}\n"
     ]
    }
   ],
   "source": [
    "# lets try elastic net\n",
    "m1 = ElasticNet(alpha=1, l1_ratio=0.5).fit(X_train, y_train)\n",
    "m1_rmse = rmse(m1.predict(X_test), y_test)\n",
    "hyper_pars = {'alpha': m1.alpha, 'l1_ratio': m1.l1_ratio}\n",
    "m1_r2 = m1.score(X_test, y_test)\n",
    "\n",
    "\n",
    "print(f\"Model rmse: {m1_rmse} \\n\")\n",
    "print(f\"Model R2: {m1_r2} \\n\")\n",
    "print(f\"Model coefs: {[int(x) for x in m1.coef_]} \\n\")\n",
    "print(f\"Model hyper_params: {hyper_pars}\")"
   ]
  },
  {
   "cell_type": "markdown",
   "metadata": {},
   "source": [
    "# Cross validation - hyperparameter tunning"
   ]
  },
  {
   "cell_type": "markdown",
   "metadata": {},
   "source": [
    "### K-Fold CV"
   ]
  },
  {
   "cell_type": "markdown",
   "metadata": {},
   "source": [
    "<img src=\"img/kfold.png\" />"
   ]
  },
  {
   "cell_type": "markdown",
   "metadata": {},
   "source": [
    "### GridSearch CV Workflow"
   ]
  },
  {
   "cell_type": "markdown",
   "metadata": {},
   "source": [
    "<img src=\"img/grid_search_workflow.png\" />"
   ]
  },
  {
   "cell_type": "code",
   "execution_count": 114,
   "metadata": {},
   "outputs": [
    {
     "name": "stdout",
     "output_type": "stream",
     "text": [
      "Model mse: 2957.2425960481037 \n",
      "\n",
      "Model mae: 2215.8946136811255 \n",
      "\n",
      "Model R2: 0.594626912059697 \n",
      "\n",
      "Model coefs: [-1.73, -0.08, -7.47, -0.0, -0.53, -0.0, 0.0, 0.0, -0.0, -0.0, 0.0, 0.0, -0.0, 446.42, 0.0, 0.0, 21.03, 0.0, 0.0, -0.0, 0.0] \n",
      "\n",
      "Model hyper_params: {'alpha': 500, 'l1_ratio': 1}\n"
     ]
    }
   ],
   "source": [
    "# gridsearch through l1_ratio and alpha parameters grid\n",
    "param_grid = {'l1_ratio': [.0001, .05, .1, .5, .7, .9, .95, 1], 'alpha':[.05, .1, .2, .5, 1, 5, 10, 20, 50, 100, 500]}\n",
    "m2 = GridSearchCV(estimator=ElasticNet(), param_grid=param_grid, cv=5, scoring='r2', iid=False).fit(X_train, y_train)\n",
    "\n",
    "m2_mse = rmse(m2.predict(X_test), y_test)\n",
    "m2_mae = mean_absolute_error(m2.predict(X_test), y_test)\n",
    "m2_r2 = m2.score(X_test, y_test)\n",
    "\n",
    "\n",
    "print(f\"Model mse: {m2_mse} \\n\")\n",
    "print(f\"Model mae: {m2_mae} \\n\")\n",
    "print(f\"Model R2: {m2_r2} \\n\")\n",
    "print(f\"Model coefs: {[round(x,2) for x in m2.best_estimator_.coef_]} \\n\")\n",
    "print(f\"Model hyper_params: {m2.best_params_}\")"
   ]
  },
  {
   "cell_type": "code",
   "execution_count": 115,
   "metadata": {},
   "outputs": [
    {
     "data": {
      "text/plain": [
       "{'Age': -1.73180901312059,\n",
       " 'DailyRate': -0.08089662608033568,\n",
       " 'DistanceFromHome': -7.469024425323716,\n",
       " 'Education': -0.0,\n",
       " 'HourlyRate': -0.5339916377695538,\n",
       " 'EnvironmentSatisfaction': -0.0,\n",
       " 'JobInvolvement': 0.0,\n",
       " 'JobSatisfaction': 0.0,\n",
       " 'NumCompaniesWorked': -0.0,\n",
       " 'PercentSalaryHike': -0.0,\n",
       " 'RelationshipSatisfaction': 0.0,\n",
       " 'StockOptionLevel': 0.0,\n",
       " 'PerformanceRating': -0.0,\n",
       " 'TotalWorkingYears': 446.42471528737127,\n",
       " 'TrainingTimesLastYear': 0.0,\n",
       " 'WorkLifeBalance': 0.0,\n",
       " 'YearsAtCompany': 21.028429421179982,\n",
       " 'YearsInCurrentRole': 0.0,\n",
       " 'YearsSinceLastPromotion': 0.0,\n",
       " 'YearsWithCurrManager': -0.0,\n",
       " 'MonthlyRate': 0.0037122224639382887}"
      ]
     },
     "execution_count": 115,
     "metadata": {},
     "output_type": "execute_result"
    }
   ],
   "source": [
    "# printout coefs with their names\n",
    "dict(zip(X_train.columns, m2.best_estimator_.coef_))"
   ]
  },
  {
   "cell_type": "code",
   "execution_count": 116,
   "metadata": {},
   "outputs": [
    {
     "name": "stdout",
     "output_type": "stream",
     "text": [
      "Model mse: 2963.4902447293634 \n",
      "\n",
      "Model R2: 0.5929122715810862 \n",
      "\n",
      "Model coefs: [-0.0, -0.08, -0.88, -0.0, -0.0, -0.0, -0.0, 0.0, -0.0, -0.0, 0.0, 0.0, -0.0, 442.35, 0.0, 0.0, 12.85, 0.0, 0.0, -0.0, 0.0] \n",
      "\n",
      "Model hyper_params: {'alpha': 942.4287461377609, 'l1_ratio': 1.0}\n"
     ]
    }
   ],
   "source": [
    "# buildin method for CV of elasticnet\n",
    "m2 = ElasticNetCV(cv=5, l1_ratio=[.1, .5, .7, .9, .95, .99, 1]).fit(X_train, y_train)\n",
    "\n",
    "hyper_params = {'alpha': m2.alpha_, 'l1_ratio': m2.l1_ratio_}\n",
    "m2_mse = rmse(m2.predict(X_test), y_test)\n",
    "m2_r2 = m2.score(X_test, y_test)\n",
    "\n",
    "print(f\"Model mse: {m2_mse} \\n\")\n",
    "print(f\"Model R2: {m2_r2} \\n\")\n",
    "print(f\"Model coefs: {[round(x,2) for x in m2.coef_]} \\n\")\n",
    "print(f\"Model hyper_params: {hyper_params}\")"
   ]
  },
  {
   "cell_type": "markdown",
   "metadata": {},
   "source": [
    "## Transformers & Pipelines"
   ]
  },
  {
   "cell_type": "markdown",
   "metadata": {},
   "source": [
    "### a.k.a. how to do some feture engeneering and not go crazy through CV"
   ]
  },
  {
   "cell_type": "markdown",
   "metadata": {},
   "source": [
    "<img src=\"img/pipeline-diagram.png\" />"
   ]
  },
  {
   "cell_type": "markdown",
   "metadata": {},
   "source": [
    "**Note: The pipeline object behaves just like any other estimator object. Which is cool.**"
   ]
  },
  {
   "cell_type": "markdown",
   "metadata": {},
   "source": [
    "#### OK, lets add some categorical features!"
   ]
  },
  {
   "cell_type": "code",
   "execution_count": 307,
   "metadata": {},
   "outputs": [],
   "source": [
    "# create target array and features dataframe\n",
    "df_target = np.ravel(df[[target_col_name]])\n",
    "df_features_all = df[num_feature_cols + cat_feature_cols]\n",
    "\n",
    "# split the dataframe to train and test parts\n",
    "X_train, X_test, y_train, y_test = train_test_split(df_features_all, df_target, test_size=0.3, random_state=666)"
   ]
  },
  {
   "cell_type": "code",
   "execution_count": 308,
   "metadata": {},
   "outputs": [
    {
     "name": "stdout",
     "output_type": "stream",
     "text": [
      "Model mse: 1704.311210211338 \n",
      "\n",
      "Model mae: 1352.1166486490117 \n",
      "\n",
      "Model R2: 0.8653585412927676 \n",
      "\n",
      "Model coefs: [-61, 25, 35, 32, 431, -463, 527, -76, -37, -227, -129, -57, -60, 60, -677, -2508, -3640, 7337, -467, 6367, -3730, 254, -2935, -133, 35, 97, -25, 25, -13, 0, -1, -71, -1, 19, -88, 49, 18, 37, 68, 40, -534, 194, -21, 20, 37, -28, 59, -68, 0] \n",
      "\n"
     ]
    }
   ],
   "source": [
    "column_transformer = ColumnTransformer([('onehot', OneHotEncoder(), cat_feature_cols)], remainder='passthrough')\n",
    "estimators = [('col_trans', column_transformer), ('reg', LinearRegression())]\n",
    "\n",
    "pipe0 = Pipeline(estimators)\n",
    "pipe0.fit(X_train, y_train)\n",
    "\n",
    "pipe0_mse = rmse(pipe0.predict(X_test), y_test)\n",
    "pipe0_mae = mean_absolute_error(pipe0.predict(X_test), y_test)\n",
    "pipe0_r2 = pipe0.score(X_test, y_test)\n",
    "\n",
    "print(f\"Model mse: {pipe0_mse} \\n\")\n",
    "print(f\"Model mae: {pipe0_mae} \\n\")\n",
    "print(f\"Model R2: {pipe0_r2} \\n\")\n",
    "print(f\"Model coefs: {[int(x) for x in pipe0.named_steps['reg'].coef_]} \\n\")"
   ]
  },
  {
   "cell_type": "code",
   "execution_count": 309,
   "metadata": {},
   "outputs": [
    {
     "name": "stdout",
     "output_type": "stream",
     "text": [
      "Model mse: 2750.6389022310195 \n",
      "\n",
      "Model mae: 2027.2521952746026 \n",
      "\n",
      "Model R2: 0.6492899843206599 \n",
      "\n",
      "Model coefs: [29, -75, 45, 0, -82, 83, 39, 0, 37, -31, -10, -35, -4, 4, -55, -65, -430, 561, 40, 501, -486, 69, -134, 15, 26, -42, 19, -19, -17, 0, -13, -30, -1, -28, 24, 58, -1, -9, 66, 0, -73, 434, 6, 70, 51, 11, 49, -107, 0] \n",
      "\n",
      "Model hyper_params: {'alpha': 1.0, 'l1_ratio': 0.5}\n"
     ]
    }
   ],
   "source": [
    "# lets try on default ElasticNet model\n",
    "column_trans = ColumnTransformer([('onehot', OneHotEncoder(dtype='int'), cat_feature_cols)], remainder='passthrough')\n",
    "estimators = [('column_trans', column_trans), ('reg', ElasticNet())]\n",
    "\n",
    "pipe0 = Pipeline(estimators)\n",
    "pipe0.fit(X_train, y_train)\n",
    "\n",
    "pipe0_mse = rmse(pipe0.predict(X_test), y_test)\n",
    "pipe0_mae = mean_absolute_error(pipe0.predict(X_test), y_test)\n",
    "pipe0_r2 = pipe0.score(X_test, y_test)\n",
    "hyper_pars = {'alpha': pipe0.named_steps['reg'].alpha, 'l1_ratio': pipe0.named_steps['reg'].l1_ratio}\n",
    "\n",
    "print(f\"Model mse: {pipe0_mse} \\n\")\n",
    "print(f\"Model mae: {pipe0_mae} \\n\")\n",
    "print(f\"Model R2: {pipe0_r2} \\n\")\n",
    "print(f\"Model coefs: {[int(x) for x in pipe0.named_steps['reg'].coef_]} \\n\")\n",
    "print(f\"Model hyper_params: {hyper_pars}\")"
   ]
  },
  {
   "cell_type": "code",
   "execution_count": 306,
   "metadata": {},
   "outputs": [
    {
     "name": "stdout",
     "output_type": "stream",
     "text": [
      "Model mse: 1676.9665920128036 \n",
      "\n",
      "Model mae: 1310.1494694430319 \n",
      "\n",
      "Model R2: 0.8754858756260295 \n",
      "\n",
      "Model coefs: [-6, 0, 4, -19, 0, -24, -97, 37, 0, 12, 21, 9, -406, 213, -39, 82, 44, -30, 35, -45, 0, 0, 0, 0, -98, 246, 0, 0, 0, 54, -85, 0, 0, -3, 0, 0, -1444, -2940, 7005, 0, 6920, -2910, 61, -2508, 0, -55, 0, 0, 0] \n",
      "\n",
      "Model hyper_params: {'reg__alpha': 10, 'reg__l1_ratio': 1}\n"
     ]
    }
   ],
   "source": [
    "# now we add some imputers and do the CV\n",
    "num_transformer = Pipeline(steps=[\n",
    "                  ('imputer', SimpleImputer(strategy='median'))])\n",
    "\n",
    "cat_transformer = Pipeline(steps=[\n",
    "                  ('imputer', SimpleImputer(strategy='most_frequent')),\n",
    "                  ('onehot', OneHotEncoder(categories='auto', \n",
    "                                     sparse=False, \n",
    "                                     handle_unknown='ignore'))])\n",
    "\n",
    "pipeline_preprocess = ColumnTransformer(transformers=[\n",
    "        ('numerical_preprocessing', num_transformer, num_feature_cols),\n",
    "        ('categorical_preprocessing', cat_transformer, cat_feature_cols)],\n",
    "        remainder='passthrough')\n",
    "\n",
    "pipe0 = Pipeline([(\"transform_inputs\", pipeline_preprocess), (\"reg\", ElasticNet())])\n",
    "\n",
    "\n",
    "param_grid = {'reg__l1_ratio': [.1, .5, .7, .9, .95, 1], 'reg__alpha':[0.2, 0.5, 1, 4, 10, 20, 40, 100, 500, 800]}\n",
    "m3 = GridSearchCV(estimator=pipe0, param_grid=param_grid, cv=5, scoring='r2', iid=False).fit(X_train, y_train)\n",
    "\n",
    "m3_mse = rmse(m3.predict(X_test), y_test)\n",
    "m3_mae = mean_absolute_error(m3.predict(X_test), y_test)\n",
    "m3_r2 = m3.best_estimator_.score(X_test, y_test)\n",
    "\n",
    "print(f\"Model mse: {m3_mse} \\n\")\n",
    "print(f\"Model mae: {m3_mae} \\n\")\n",
    "print(f\"Model R2: {m3_r2} \\n\")\n",
    "print(f\"Model coefs: {[int(x) for x in m3.best_estimator_.named_steps['reg'].coef_]} \\n\")\n",
    "print(f\"Model hyper_params: {m3.best_params_}\")"
   ]
  },
  {
   "cell_type": "code",
   "execution_count": 301,
   "metadata": {},
   "outputs": [
    {
     "name": "stdout",
     "output_type": "stream",
     "text": [
      "Model mse: 1680.9220482471592 \n",
      "\n",
      "Model mae: 1326.175268989353 \n",
      "\n",
      "Model R2: 0.874897800689984 \n",
      "\n",
      "Model coefs: [0, 0, 7, 0, 0, 0, -89, 36, 0, 0, 0, 0, -242, 1929, -34, 54, 149, -40, 61, -107, 0, 0, 0, 0, 0, 106, 0, 0, 0, 0, -21, 0, 0, 0, 0, 0, -1274, -2777, 6806, 0, 6776, -2746, 0, -2273, 0, -16, 0, 0, 0] \n",
      "\n",
      "Model hyper_params: {'reg__alpha': 20, 'reg__l1_ratio': 1}\n"
     ]
    }
   ],
   "source": [
    "# added scaler\n",
    "num_transformer = Pipeline(steps=[\n",
    "                  ('imputer', SimpleImputer(strategy='median')),\n",
    "                  ('scaler', RobustScaler())])\n",
    "\n",
    "cat_transformer = Pipeline(steps=[\n",
    "                  ('imputer', SimpleImputer(strategy='most_frequent')),\n",
    "                  ('onehot', OneHotEncoder(categories='auto', \n",
    "                                     sparse=False, \n",
    "                                     handle_unknown='ignore'))])\n",
    "\n",
    "pipeline_preprocess = ColumnTransformer(transformers=[\n",
    "        ('numerical_preprocessing', num_transformer, num_feature_cols),\n",
    "        ('categorical_preprocessing', cat_transformer, cat_feature_cols)],\n",
    "        remainder='passthrough')\n",
    "\n",
    "pipe0 = Pipeline([(\"transform_inputs\", pipeline_preprocess), (\"reg\", ElasticNet())])\n",
    "\n",
    "\n",
    "param_grid = {'reg__l1_ratio': [.1, .5, .7, .9, .95, 1], 'reg__alpha':[0.2, 0.5, 1, 4, 10, 20, 40, 100]}\n",
    "m4 = GridSearchCV(estimator=pipe0, param_grid=param_grid, cv=5, scoring='r2', iid=False).fit(X_train, y_train)\n",
    "\n",
    "m4_mse = rmse(m4.predict(X_test), y_test)\n",
    "m4_mae = mean_absolute_error(m4.predict(X_test), y_test)\n",
    "m4_r2 = m4.best_estimator_.score(X_test, y_test)\n",
    "\n",
    "print(f\"Model mse: {m4_mse} \\n\")\n",
    "print(f\"Model mae: {m4_mae} \\n\")\n",
    "print(f\"Model R2: {m4_r2} \\n\")\n",
    "print(f\"Model coefs: {[int(x) for x in m4.best_estimator_.named_steps['reg'].coef_]} \\n\")\n",
    "print(f\"Model hyper_params: {m4.best_params_}\")"
   ]
  },
  {
   "cell_type": "markdown",
   "metadata": {},
   "source": [
    "## Decision trees - bricks of ensemble models"
   ]
  },
  {
   "cell_type": "markdown",
   "metadata": {},
   "source": [
    "#### What is it?\n",
    "A model that consists of k nodes with binary decision rule. \n",
    "\n",
    "#### How does it predict?\n",
    "1] Is your weight >= 90 -> True\n",
    "\n",
    "2] Is your level of excersise >= 0 -> False\n",
    "\n",
    "3] Do you have stressful job -> True\n",
    "\n",
    "--> You will die at np.mean([63, 82, 54, 61, 64]) = 64.8"
   ]
  },
  {
   "cell_type": "markdown",
   "metadata": {},
   "source": [
    "#### How is it trained?\n",
    "\n",
    "1] Fow each candidate split $\\theta$ (across all fetures), at node with $Q$ remaining data points, scoring function $G(Q, \\theta)$ is computed as:\n",
    "\n",
    "$G(Q, \\theta) = \\frac{n_{left}}{N_m} H(Q_{left}(\\theta)) + \\frac{n_{right}}{N_m} H(Q_{right}(\\theta))$ \n",
    "\n",
    "Where $Q_{left}$ represents the left side of the node. The inpurity function $H()$ is defined as MSE for regression task.\n",
    "\n",
    "2] You select $\\theta^* = argmin_{\\theta} G(Q, \\theta)$ as your next split.\n",
    "\n",
    "This is repeated until there is nothing to split or stopping criterion is hit."
   ]
  },
  {
   "cell_type": "markdown",
   "metadata": {},
   "source": [
    "#### Why is it so bad?\n",
    "The decision trees tend to overfit."
   ]
  },
  {
   "cell_type": "markdown",
   "metadata": {},
   "source": [
    "<img src=\"img/tree_fit.png\"/>"
   ]
  },
  {
   "cell_type": "code",
   "execution_count": 300,
   "metadata": {},
   "outputs": [
    {
     "name": "stdout",
     "output_type": "stream",
     "text": [
      "Model mse: 1780.9897028884568 \n",
      "\n",
      "Model mae: 1333.0034782136986 \n",
      "\n",
      "Model R2: 0.8595594200487755 \n",
      "\n",
      "Model hyper_params: {'reg__max_depth': 5}\n"
     ]
    }
   ],
   "source": [
    "num_transformer = Pipeline(steps=[\n",
    "                  ('imputer', SimpleImputer(strategy='median')),\n",
    "                  ('scaler', RobustScaler())])\n",
    "\n",
    "cat_transformer = Pipeline(steps=[\n",
    "                  ('imputer', SimpleImputer(strategy='most_frequent')),\n",
    "                  ('onehot', OneHotEncoder(categories='auto', \n",
    "                                     sparse=False, \n",
    "                                     handle_unknown='ignore'))])\n",
    "\n",
    "pipeline_preprocess = ColumnTransformer(transformers=[\n",
    "        ('numerical_preprocessing', num_transformer, num_feature_cols),\n",
    "        ('categorical_preprocessing', cat_transformer, cat_feature_cols)],\n",
    "        remainder='passthrough')\n",
    "\n",
    "pipe1 = Pipeline([(\"transform_inputs\", pipeline_preprocess), (\"reg\", DecisionTreeRegressor())])\n",
    "\n",
    "param_grid = {'reg__max_depth': [3, 5]}\n",
    "m5 = GridSearchCV(estimator=pipe1, param_grid=param_grid, cv=5, scoring='r2', iid=False).fit(X_train, y_train)\n",
    "\n",
    "m5_mse = rmse(m5.predict(X_test), y_test)\n",
    "m5_mae = mean_absolute_error(m5.predict(X_test), y_test)\n",
    "m5_r2 = m5.best_estimator_.score(X_test, y_test)\n",
    "\n",
    "print(f\"Model mse: {m5_mse} \\n\")\n",
    "print(f\"Model mae: {m5_mae} \\n\")\n",
    "print(f\"Model R2: {m5_r2} \\n\")\n",
    "print(f\"Model hyper_params: {m5.best_params_}\")"
   ]
  },
  {
   "cell_type": "code",
   "execution_count": 131,
   "metadata": {},
   "outputs": [
    {
     "data": {
      "text/plain": [
       "'img/tree_example.pdf'"
      ]
     },
     "execution_count": 131,
     "metadata": {},
     "output_type": "execute_result"
    }
   ],
   "source": [
    "import graphviz \n",
    "dot_data = export_graphviz(m4.best_estimator_.named_steps['reg'], out_file=None) \n",
    "graph = graphviz.Source(dot_data) \n",
    "graph.render(\"img/tree_example\")"
   ]
  },
  {
   "cell_type": "markdown",
   "metadata": {},
   "source": [
    "<img src=\"img/tree_example.pdf\"/>"
   ]
  },
  {
   "cell_type": "markdown",
   "metadata": {},
   "source": [
    "## Ensemble models - Random Forests"
   ]
  },
  {
   "cell_type": "markdown",
   "metadata": {},
   "source": [
    "<img src=\"img/rf.png\"/>"
   ]
  },
  {
   "cell_type": "code",
   "execution_count": 299,
   "metadata": {},
   "outputs": [
    {
     "name": "stdout",
     "output_type": "stream",
     "text": [
      "Model mse: 1559.5982142514106 \n",
      "\n",
      "Model mae: 1204.6771158761585 \n",
      "\n",
      "Model R2: 0.892305070653728 \n",
      "\n",
      "Model hyper_params: {'reg__max_depth': 10, 'reg__max_features': 'auto', 'reg__n_estimators': 100}\n"
     ]
    }
   ],
   "source": [
    "num_transformer = Pipeline(steps=[\n",
    "                  ('imputer', SimpleImputer(strategy='median')),\n",
    "                  ('scaler', RobustScaler())])\n",
    "\n",
    "cat_transformer = Pipeline(steps=[\n",
    "                  ('imputer', SimpleImputer(strategy='most_frequent')),\n",
    "                  ('onehot', OneHotEncoder(categories='auto', \n",
    "                                     sparse=False, \n",
    "                                     handle_unknown='ignore'))])\n",
    "\n",
    "pipeline_preprocess = ColumnTransformer(transformers=[\n",
    "        ('numerical_preprocessing', num_transformer, num_feature_cols),\n",
    "        ('categorical_preprocessing', cat_transformer, cat_feature_cols)],\n",
    "        remainder='passthrough')\n",
    "\n",
    "pipe2 = Pipeline([(\"transform_inputs\", pipeline_preprocess), (\"reg\", RandomForestRegressor())])\n",
    "\n",
    "param_grid = {'reg__max_depth': [5, 10, 15], 'reg__n_estimators':[40, 100, 150], 'reg__max_features':['auto', 'sqrt']}\n",
    "m6 = GridSearchCV(estimator=pipe2, param_grid=param_grid, cv=5, scoring='r2', iid=False).fit(X_train, y_train)\n",
    "\n",
    "m6_mse = rmse(m6.predict(X_test), y_test)\n",
    "m6_mae = mean_absolute_error(m6.predict(X_test), y_test)\n",
    "m6_r2 = m6.best_estimator_.score(X_test, y_test)\n",
    "\n",
    "print(f\"Model mse: {m6_mse} \\n\")\n",
    "print(f\"Model mae: {m6_mae} \\n\")\n",
    "print(f\"Model R2: {m6_r2} \\n\")\n",
    "print(f\"Model hyper_params: {m6.best_params_}\")"
   ]
  },
  {
   "cell_type": "markdown",
   "metadata": {},
   "source": [
    "## Ensemble models - Gradient Boosting"
   ]
  },
  {
   "cell_type": "markdown",
   "metadata": {},
   "source": [
    "#### Weak learner -> errors -> Weak learner -> errors -> ...\n",
    "\n",
    "If we define weak learner in $m$-th iteration step as $h_m$ and final model in step $m$ as $F_m$, then the iteration formula is:\n",
    "\n",
    "$F_m(X) = F_{m-1}(X) + \\lambda h_m(X)$,\n",
    "\n",
    "where $X$ are the data and $\\lambda$ is learning raste coefficient. Initial model $F_0$ is just weak learner on the data $X$."
   ]
  },
  {
   "cell_type": "markdown",
   "metadata": {},
   "source": [
    "<img src=\"img/xgb.png\"/>"
   ]
  },
  {
   "cell_type": "code",
   "execution_count": 259,
   "metadata": {
    "scrolled": false
   },
   "outputs": [
    {
     "name": "stdout",
     "output_type": "stream",
     "text": [
      "Model mse: 1594.477921602041 \n",
      "\n",
      "Model mae: 1238.4074915812876 \n",
      "\n",
      "Model R2: 0.8874341079739063 \n",
      "\n",
      "Model hyper_params: {'reg__max_features': 'auto', 'reg__min_samples_leaf': 0.0025, 'reg__n_estimators': 50, 'reg__subsample': 0.4}\n"
     ]
    }
   ],
   "source": [
    "num_transformer = Pipeline(steps=[\n",
    "                  ('imputer', SimpleImputer(strategy='median')),\n",
    "                  ('scaler', RobustScaler())])\n",
    "\n",
    "cat_transformer = Pipeline(steps=[\n",
    "                  ('imputer', SimpleImputer(strategy='most_frequent')),\n",
    "                  ('onehot', OneHotEncoder(categories='auto', \n",
    "                                     sparse=False, \n",
    "                                     handle_unknown='ignore'))])\n",
    "\n",
    "pipeline_preprocess = ColumnTransformer(transformers=[\n",
    "        ('numerical_preprocessing', num_transformer, num_feature_cols),\n",
    "        ('categorical_preprocessing', cat_transformer, cat_feature_cols)],\n",
    "        remainder='passthrough')\n",
    "\n",
    "pipe3 = Pipeline([(\"transform_inputs\", pipeline_preprocess), (\"reg\", GradientBoostingRegressor())])\n",
    "\n",
    "param_grid = {'reg__max_features': ['auto', 'sqrt'], 'reg__subsample': [0.1, 0.05, 0.4], 'reg__min_samples_leaf': [0.0025, 0.005, 0.01, 0.05, 0.1], 'reg__n_estimators':[30, 40, 50, 70, 200]}\n",
    "m7 = GridSearchCV(estimator=pipe3, param_grid=param_grid, cv=5, scoring='r2', iid=False).fit(X_train, y_train)\n",
    "\n",
    "m7_mse = rmse(m7.predict(X_test), y_test)\n",
    "m7_mae = mean_absolute_error(m7.predict(X_test), y_test)\n",
    "m7_r2 = m7.best_estimator_.score(X_test, y_test)\n",
    "\n",
    "print(f\"Model mse: {m7_mse} \\n\")\n",
    "print(f\"Model mae: {m7_mae} \\n\")\n",
    "print(f\"Model R2: {m7_r2} \\n\")\n",
    "print(f\"Model hyper_params: {m7.best_params_}\")"
   ]
  },
  {
   "cell_type": "markdown",
   "metadata": {},
   "source": [
    "## Feature importance"
   ]
  },
  {
   "cell_type": "code",
   "execution_count": 272,
   "metadata": {},
   "outputs": [],
   "source": [
    "# get onehot column names and appropriate feture importances from the pipeline\n",
    "onehot_columns = m7.best_estimator_.named_steps['transform_inputs'].named_transformers_['categorical_preprocessing'].named_steps['onehot'].get_feature_names(input_features=cat_feature_cols)\n",
    "feature_importance = pd.DataFrame({'features': np.array(num_feature_cols + list(onehot_columns)), 'importance': m7.best_estimator_.named_steps['reg'].feature_importances_})"
   ]
  },
  {
   "cell_type": "code",
   "execution_count": 297,
   "metadata": {},
   "outputs": [
    {
     "data": {
      "application/vnd.plotly.v1+json": {
       "config": {
        "plotlyServerURL": "https://plot.ly"
       },
       "data": [
        {
         "alignmentgroup": "True",
         "hoverlabel": {
          "namelength": 0
         },
         "hovertemplate": "features=%{x}<br>importance=%{y}",
         "legendgroup": "",
         "marker": {
          "color": "#636efa"
         },
         "name": "",
         "offsetgroup": "",
         "orientation": "v",
         "showlegend": false,
         "textposition": "auto",
         "type": "bar",
         "x": [
          "TotalWorkingYears",
          "JobRole_Research Director",
          "JobRole_Manager",
          "JobRole_Sales Executive",
          "JobRole_Laboratory Technician",
          "JobRole_Research Scientist",
          "JobRole_Manufacturing Director",
          "JobRole_Healthcare Representative",
          "DailyRate",
          "YearsAtCompany",
          "JobRole_Sales Representative",
          "Age",
          "MonthlyRate",
          "YearsSinceLastPromotion",
          "DistanceFromHome",
          "HourlyRate",
          "NumCompaniesWorked",
          "YearsWithCurrManager",
          "YearsInCurrentRole",
          "PercentSalaryHike",
          "Department_Research & Development",
          "TrainingTimesLastYear",
          "MaritalStatus_Divorced",
          "StockOptionLevel",
          "JobInvolvement",
          "BusinessTravel_Non-Travel",
          "WorkLifeBalance",
          "RelationshipSatisfaction",
          "MaritalStatus_Single",
          "Education",
          "EducationField_Life Sciences",
          "Gender_Female",
          "Gender_Male",
          "EnvironmentSatisfaction",
          "JobSatisfaction",
          "Department_Sales",
          "JobRole_Human Resources",
          "BusinessTravel_Travel_Rarely",
          "MaritalStatus_Married",
          "OverTime_No",
          "Department_Human Resources",
          "EducationField_Technical Degree",
          "EducationField_Other",
          "EducationField_Medical",
          "EducationField_Marketing",
          "EducationField_Human Resources",
          "BusinessTravel_Travel_Frequently",
          "PerformanceRating",
          "OverTime_Yes"
         ],
         "xaxis": "x",
         "y": [
          0.6630903144896274,
          0.12035000034637629,
          0.06278102671552675,
          0.02617738322267727,
          0.025607860673165894,
          0.020991806667936697,
          0.011255198477906576,
          0.010875801529164276,
          0.006456840137145636,
          0.005273422266622512,
          0.005220169495173127,
          0.005171234047160184,
          0.0050085913295108316,
          0.003917590707044607,
          0.0035485348116517674,
          0.0031482850446297927,
          0.0023734970458608963,
          0.0021331882583174944,
          0.002025058512699323,
          0.001976064115519451,
          0.0016930075092161819,
          0.0016245265854797596,
          0.0012329494720217452,
          0.0011111711175934506,
          0.0008291741152033694,
          0.0007802330821380986,
          0.0007567789859637164,
          0.0006433925299141514,
          0.0005753721009977094,
          0.0005620555226526034,
          0.0005221220721457752,
          0.0005018220069811834,
          0.0003940963037773205,
          0.0003890072973123628,
          0.0003809916760867807,
          0.0002352999049478216,
          0.0002286599156926741,
          0.00015747190815847744,
          0,
          0,
          0,
          0,
          0,
          0,
          0,
          0,
          0,
          0,
          0
         ],
         "yaxis": "y"
        }
       ],
       "layout": {
        "barmode": "relative",
        "height": 600,
        "legend": {
         "tracegroupgap": 0
        },
        "margin": {
         "t": 60
        },
        "template": {
         "data": {
          "bar": [
           {
            "error_x": {
             "color": "#2a3f5f"
            },
            "error_y": {
             "color": "#2a3f5f"
            },
            "marker": {
             "line": {
              "color": "#E5ECF6",
              "width": 0.5
             }
            },
            "type": "bar"
           }
          ],
          "barpolar": [
           {
            "marker": {
             "line": {
              "color": "#E5ECF6",
              "width": 0.5
             }
            },
            "type": "barpolar"
           }
          ],
          "carpet": [
           {
            "aaxis": {
             "endlinecolor": "#2a3f5f",
             "gridcolor": "white",
             "linecolor": "white",
             "minorgridcolor": "white",
             "startlinecolor": "#2a3f5f"
            },
            "baxis": {
             "endlinecolor": "#2a3f5f",
             "gridcolor": "white",
             "linecolor": "white",
             "minorgridcolor": "white",
             "startlinecolor": "#2a3f5f"
            },
            "type": "carpet"
           }
          ],
          "choropleth": [
           {
            "colorbar": {
             "outlinewidth": 0,
             "ticks": ""
            },
            "type": "choropleth"
           }
          ],
          "contour": [
           {
            "colorbar": {
             "outlinewidth": 0,
             "ticks": ""
            },
            "colorscale": [
             [
              0,
              "#0d0887"
             ],
             [
              0.1111111111111111,
              "#46039f"
             ],
             [
              0.2222222222222222,
              "#7201a8"
             ],
             [
              0.3333333333333333,
              "#9c179e"
             ],
             [
              0.4444444444444444,
              "#bd3786"
             ],
             [
              0.5555555555555556,
              "#d8576b"
             ],
             [
              0.6666666666666666,
              "#ed7953"
             ],
             [
              0.7777777777777778,
              "#fb9f3a"
             ],
             [
              0.8888888888888888,
              "#fdca26"
             ],
             [
              1,
              "#f0f921"
             ]
            ],
            "type": "contour"
           }
          ],
          "contourcarpet": [
           {
            "colorbar": {
             "outlinewidth": 0,
             "ticks": ""
            },
            "type": "contourcarpet"
           }
          ],
          "heatmap": [
           {
            "colorbar": {
             "outlinewidth": 0,
             "ticks": ""
            },
            "colorscale": [
             [
              0,
              "#0d0887"
             ],
             [
              0.1111111111111111,
              "#46039f"
             ],
             [
              0.2222222222222222,
              "#7201a8"
             ],
             [
              0.3333333333333333,
              "#9c179e"
             ],
             [
              0.4444444444444444,
              "#bd3786"
             ],
             [
              0.5555555555555556,
              "#d8576b"
             ],
             [
              0.6666666666666666,
              "#ed7953"
             ],
             [
              0.7777777777777778,
              "#fb9f3a"
             ],
             [
              0.8888888888888888,
              "#fdca26"
             ],
             [
              1,
              "#f0f921"
             ]
            ],
            "type": "heatmap"
           }
          ],
          "heatmapgl": [
           {
            "colorbar": {
             "outlinewidth": 0,
             "ticks": ""
            },
            "colorscale": [
             [
              0,
              "#0d0887"
             ],
             [
              0.1111111111111111,
              "#46039f"
             ],
             [
              0.2222222222222222,
              "#7201a8"
             ],
             [
              0.3333333333333333,
              "#9c179e"
             ],
             [
              0.4444444444444444,
              "#bd3786"
             ],
             [
              0.5555555555555556,
              "#d8576b"
             ],
             [
              0.6666666666666666,
              "#ed7953"
             ],
             [
              0.7777777777777778,
              "#fb9f3a"
             ],
             [
              0.8888888888888888,
              "#fdca26"
             ],
             [
              1,
              "#f0f921"
             ]
            ],
            "type": "heatmapgl"
           }
          ],
          "histogram": [
           {
            "marker": {
             "colorbar": {
              "outlinewidth": 0,
              "ticks": ""
             }
            },
            "type": "histogram"
           }
          ],
          "histogram2d": [
           {
            "colorbar": {
             "outlinewidth": 0,
             "ticks": ""
            },
            "colorscale": [
             [
              0,
              "#0d0887"
             ],
             [
              0.1111111111111111,
              "#46039f"
             ],
             [
              0.2222222222222222,
              "#7201a8"
             ],
             [
              0.3333333333333333,
              "#9c179e"
             ],
             [
              0.4444444444444444,
              "#bd3786"
             ],
             [
              0.5555555555555556,
              "#d8576b"
             ],
             [
              0.6666666666666666,
              "#ed7953"
             ],
             [
              0.7777777777777778,
              "#fb9f3a"
             ],
             [
              0.8888888888888888,
              "#fdca26"
             ],
             [
              1,
              "#f0f921"
             ]
            ],
            "type": "histogram2d"
           }
          ],
          "histogram2dcontour": [
           {
            "colorbar": {
             "outlinewidth": 0,
             "ticks": ""
            },
            "colorscale": [
             [
              0,
              "#0d0887"
             ],
             [
              0.1111111111111111,
              "#46039f"
             ],
             [
              0.2222222222222222,
              "#7201a8"
             ],
             [
              0.3333333333333333,
              "#9c179e"
             ],
             [
              0.4444444444444444,
              "#bd3786"
             ],
             [
              0.5555555555555556,
              "#d8576b"
             ],
             [
              0.6666666666666666,
              "#ed7953"
             ],
             [
              0.7777777777777778,
              "#fb9f3a"
             ],
             [
              0.8888888888888888,
              "#fdca26"
             ],
             [
              1,
              "#f0f921"
             ]
            ],
            "type": "histogram2dcontour"
           }
          ],
          "mesh3d": [
           {
            "colorbar": {
             "outlinewidth": 0,
             "ticks": ""
            },
            "type": "mesh3d"
           }
          ],
          "parcoords": [
           {
            "line": {
             "colorbar": {
              "outlinewidth": 0,
              "ticks": ""
             }
            },
            "type": "parcoords"
           }
          ],
          "scatter": [
           {
            "marker": {
             "colorbar": {
              "outlinewidth": 0,
              "ticks": ""
             }
            },
            "type": "scatter"
           }
          ],
          "scatter3d": [
           {
            "line": {
             "colorbar": {
              "outlinewidth": 0,
              "ticks": ""
             }
            },
            "marker": {
             "colorbar": {
              "outlinewidth": 0,
              "ticks": ""
             }
            },
            "type": "scatter3d"
           }
          ],
          "scattercarpet": [
           {
            "marker": {
             "colorbar": {
              "outlinewidth": 0,
              "ticks": ""
             }
            },
            "type": "scattercarpet"
           }
          ],
          "scattergeo": [
           {
            "marker": {
             "colorbar": {
              "outlinewidth": 0,
              "ticks": ""
             }
            },
            "type": "scattergeo"
           }
          ],
          "scattergl": [
           {
            "marker": {
             "colorbar": {
              "outlinewidth": 0,
              "ticks": ""
             }
            },
            "type": "scattergl"
           }
          ],
          "scattermapbox": [
           {
            "marker": {
             "colorbar": {
              "outlinewidth": 0,
              "ticks": ""
             }
            },
            "type": "scattermapbox"
           }
          ],
          "scatterpolar": [
           {
            "marker": {
             "colorbar": {
              "outlinewidth": 0,
              "ticks": ""
             }
            },
            "type": "scatterpolar"
           }
          ],
          "scatterpolargl": [
           {
            "marker": {
             "colorbar": {
              "outlinewidth": 0,
              "ticks": ""
             }
            },
            "type": "scatterpolargl"
           }
          ],
          "scatterternary": [
           {
            "marker": {
             "colorbar": {
              "outlinewidth": 0,
              "ticks": ""
             }
            },
            "type": "scatterternary"
           }
          ],
          "surface": [
           {
            "colorbar": {
             "outlinewidth": 0,
             "ticks": ""
            },
            "colorscale": [
             [
              0,
              "#0d0887"
             ],
             [
              0.1111111111111111,
              "#46039f"
             ],
             [
              0.2222222222222222,
              "#7201a8"
             ],
             [
              0.3333333333333333,
              "#9c179e"
             ],
             [
              0.4444444444444444,
              "#bd3786"
             ],
             [
              0.5555555555555556,
              "#d8576b"
             ],
             [
              0.6666666666666666,
              "#ed7953"
             ],
             [
              0.7777777777777778,
              "#fb9f3a"
             ],
             [
              0.8888888888888888,
              "#fdca26"
             ],
             [
              1,
              "#f0f921"
             ]
            ],
            "type": "surface"
           }
          ],
          "table": [
           {
            "cells": {
             "fill": {
              "color": "#EBF0F8"
             },
             "line": {
              "color": "white"
             }
            },
            "header": {
             "fill": {
              "color": "#C8D4E3"
             },
             "line": {
              "color": "white"
             }
            },
            "type": "table"
           }
          ]
         },
         "layout": {
          "annotationdefaults": {
           "arrowcolor": "#2a3f5f",
           "arrowhead": 0,
           "arrowwidth": 1
          },
          "colorscale": {
           "diverging": [
            [
             0,
             "#8e0152"
            ],
            [
             0.1,
             "#c51b7d"
            ],
            [
             0.2,
             "#de77ae"
            ],
            [
             0.3,
             "#f1b6da"
            ],
            [
             0.4,
             "#fde0ef"
            ],
            [
             0.5,
             "#f7f7f7"
            ],
            [
             0.6,
             "#e6f5d0"
            ],
            [
             0.7,
             "#b8e186"
            ],
            [
             0.8,
             "#7fbc41"
            ],
            [
             0.9,
             "#4d9221"
            ],
            [
             1,
             "#276419"
            ]
           ],
           "sequential": [
            [
             0,
             "#0d0887"
            ],
            [
             0.1111111111111111,
             "#46039f"
            ],
            [
             0.2222222222222222,
             "#7201a8"
            ],
            [
             0.3333333333333333,
             "#9c179e"
            ],
            [
             0.4444444444444444,
             "#bd3786"
            ],
            [
             0.5555555555555556,
             "#d8576b"
            ],
            [
             0.6666666666666666,
             "#ed7953"
            ],
            [
             0.7777777777777778,
             "#fb9f3a"
            ],
            [
             0.8888888888888888,
             "#fdca26"
            ],
            [
             1,
             "#f0f921"
            ]
           ],
           "sequentialminus": [
            [
             0,
             "#0d0887"
            ],
            [
             0.1111111111111111,
             "#46039f"
            ],
            [
             0.2222222222222222,
             "#7201a8"
            ],
            [
             0.3333333333333333,
             "#9c179e"
            ],
            [
             0.4444444444444444,
             "#bd3786"
            ],
            [
             0.5555555555555556,
             "#d8576b"
            ],
            [
             0.6666666666666666,
             "#ed7953"
            ],
            [
             0.7777777777777778,
             "#fb9f3a"
            ],
            [
             0.8888888888888888,
             "#fdca26"
            ],
            [
             1,
             "#f0f921"
            ]
           ]
          },
          "colorway": [
           "#636efa",
           "#EF553B",
           "#00cc96",
           "#ab63fa",
           "#FFA15A",
           "#19d3f3",
           "#FF6692",
           "#B6E880",
           "#FF97FF",
           "#FECB52"
          ],
          "font": {
           "color": "#2a3f5f"
          },
          "geo": {
           "bgcolor": "white",
           "lakecolor": "white",
           "landcolor": "#E5ECF6",
           "showlakes": true,
           "showland": true,
           "subunitcolor": "white"
          },
          "hoverlabel": {
           "align": "left"
          },
          "hovermode": "closest",
          "mapbox": {
           "style": "light"
          },
          "paper_bgcolor": "white",
          "plot_bgcolor": "#E5ECF6",
          "polar": {
           "angularaxis": {
            "gridcolor": "white",
            "linecolor": "white",
            "ticks": ""
           },
           "bgcolor": "#E5ECF6",
           "radialaxis": {
            "gridcolor": "white",
            "linecolor": "white",
            "ticks": ""
           }
          },
          "scene": {
           "xaxis": {
            "backgroundcolor": "#E5ECF6",
            "gridcolor": "white",
            "gridwidth": 2,
            "linecolor": "white",
            "showbackground": true,
            "ticks": "",
            "zerolinecolor": "white"
           },
           "yaxis": {
            "backgroundcolor": "#E5ECF6",
            "gridcolor": "white",
            "gridwidth": 2,
            "linecolor": "white",
            "showbackground": true,
            "ticks": "",
            "zerolinecolor": "white"
           },
           "zaxis": {
            "backgroundcolor": "#E5ECF6",
            "gridcolor": "white",
            "gridwidth": 2,
            "linecolor": "white",
            "showbackground": true,
            "ticks": "",
            "zerolinecolor": "white"
           }
          },
          "shapedefaults": {
           "line": {
            "color": "#2a3f5f"
           }
          },
          "ternary": {
           "aaxis": {
            "gridcolor": "white",
            "linecolor": "white",
            "ticks": ""
           },
           "baxis": {
            "gridcolor": "white",
            "linecolor": "white",
            "ticks": ""
           },
           "bgcolor": "#E5ECF6",
           "caxis": {
            "gridcolor": "white",
            "linecolor": "white",
            "ticks": ""
           }
          },
          "title": {
           "x": 0.05
          },
          "xaxis": {
           "automargin": true,
           "gridcolor": "white",
           "linecolor": "white",
           "ticks": "",
           "zerolinecolor": "white",
           "zerolinewidth": 2
          },
          "yaxis": {
           "automargin": true,
           "gridcolor": "white",
           "linecolor": "white",
           "ticks": "",
           "zerolinecolor": "white",
           "zerolinewidth": 2
          }
         }
        },
        "xaxis": {
         "anchor": "y",
         "domain": [
          0,
          0.98
         ],
         "title": {
          "text": "features"
         }
        },
        "yaxis": {
         "anchor": "x",
         "domain": [
          0,
          1
         ],
         "title": {
          "text": "importance"
         }
        }
       }
      },
      "text/html": [
       "<div>\n",
       "        \n",
       "        \n",
       "            <div id=\"b402e36d-65da-4c16-abd1-29320c4f2c59\" class=\"plotly-graph-div\" style=\"height:600px; width:100%;\"></div>\n",
       "            <script type=\"text/javascript\">\n",
       "                require([\"plotly\"], function(Plotly) {\n",
       "                    window.PLOTLYENV=window.PLOTLYENV || {};\n",
       "                    \n",
       "                if (document.getElementById(\"b402e36d-65da-4c16-abd1-29320c4f2c59\")) {\n",
       "                    Plotly.newPlot(\n",
       "                        'b402e36d-65da-4c16-abd1-29320c4f2c59',\n",
       "                        [{\"alignmentgroup\": \"True\", \"hoverlabel\": {\"namelength\": 0}, \"hovertemplate\": \"features=%{x}<br>importance=%{y}\", \"legendgroup\": \"\", \"marker\": {\"color\": \"#636efa\"}, \"name\": \"\", \"offsetgroup\": \"\", \"orientation\": \"v\", \"showlegend\": false, \"textposition\": \"auto\", \"type\": \"bar\", \"x\": [\"TotalWorkingYears\", \"JobRole_Research Director\", \"JobRole_Manager\", \"JobRole_Sales Executive\", \"JobRole_Laboratory Technician\", \"JobRole_Research Scientist\", \"JobRole_Manufacturing Director\", \"JobRole_Healthcare Representative\", \"DailyRate\", \"YearsAtCompany\", \"JobRole_Sales Representative\", \"Age\", \"MonthlyRate\", \"YearsSinceLastPromotion\", \"DistanceFromHome\", \"HourlyRate\", \"NumCompaniesWorked\", \"YearsWithCurrManager\", \"YearsInCurrentRole\", \"PercentSalaryHike\", \"Department_Research & Development\", \"TrainingTimesLastYear\", \"MaritalStatus_Divorced\", \"StockOptionLevel\", \"JobInvolvement\", \"BusinessTravel_Non-Travel\", \"WorkLifeBalance\", \"RelationshipSatisfaction\", \"MaritalStatus_Single\", \"Education\", \"EducationField_Life Sciences\", \"Gender_Female\", \"Gender_Male\", \"EnvironmentSatisfaction\", \"JobSatisfaction\", \"Department_Sales\", \"JobRole_Human Resources\", \"BusinessTravel_Travel_Rarely\", \"MaritalStatus_Married\", \"OverTime_No\", \"Department_Human Resources\", \"EducationField_Technical Degree\", \"EducationField_Other\", \"EducationField_Medical\", \"EducationField_Marketing\", \"EducationField_Human Resources\", \"BusinessTravel_Travel_Frequently\", \"PerformanceRating\", \"OverTime_Yes\"], \"xaxis\": \"x\", \"y\": [0.6630903144896274, 0.12035000034637629, 0.06278102671552675, 0.02617738322267727, 0.025607860673165894, 0.020991806667936697, 0.011255198477906576, 0.010875801529164276, 0.006456840137145636, 0.005273422266622512, 0.005220169495173127, 0.005171234047160184, 0.0050085913295108316, 0.003917590707044607, 0.0035485348116517674, 0.0031482850446297927, 0.0023734970458608963, 0.0021331882583174944, 0.002025058512699323, 0.001976064115519451, 0.0016930075092161819, 0.0016245265854797596, 0.0012329494720217452, 0.0011111711175934506, 0.0008291741152033694, 0.0007802330821380986, 0.0007567789859637164, 0.0006433925299141514, 0.0005753721009977094, 0.0005620555226526034, 0.0005221220721457752, 0.0005018220069811834, 0.0003940963037773205, 0.0003890072973123628, 0.0003809916760867807, 0.0002352999049478216, 0.0002286599156926741, 0.00015747190815847744, 0.0, 0.0, 0.0, 0.0, 0.0, 0.0, 0.0, 0.0, 0.0, 0.0, 0.0], \"yaxis\": \"y\"}],\n",
       "                        {\"barmode\": \"relative\", \"height\": 600, \"legend\": {\"tracegroupgap\": 0}, \"margin\": {\"t\": 60}, \"template\": {\"data\": {\"bar\": [{\"error_x\": {\"color\": \"#2a3f5f\"}, \"error_y\": {\"color\": \"#2a3f5f\"}, \"marker\": {\"line\": {\"color\": \"#E5ECF6\", \"width\": 0.5}}, \"type\": \"bar\"}], \"barpolar\": [{\"marker\": {\"line\": {\"color\": \"#E5ECF6\", \"width\": 0.5}}, \"type\": \"barpolar\"}], \"carpet\": [{\"aaxis\": {\"endlinecolor\": \"#2a3f5f\", \"gridcolor\": \"white\", \"linecolor\": \"white\", \"minorgridcolor\": \"white\", \"startlinecolor\": \"#2a3f5f\"}, \"baxis\": {\"endlinecolor\": \"#2a3f5f\", \"gridcolor\": \"white\", \"linecolor\": \"white\", \"minorgridcolor\": \"white\", \"startlinecolor\": \"#2a3f5f\"}, \"type\": \"carpet\"}], \"choropleth\": [{\"colorbar\": {\"outlinewidth\": 0, \"ticks\": \"\"}, \"type\": \"choropleth\"}], \"contour\": [{\"colorbar\": {\"outlinewidth\": 0, \"ticks\": \"\"}, \"colorscale\": [[0.0, \"#0d0887\"], [0.1111111111111111, \"#46039f\"], [0.2222222222222222, \"#7201a8\"], [0.3333333333333333, \"#9c179e\"], [0.4444444444444444, \"#bd3786\"], [0.5555555555555556, \"#d8576b\"], [0.6666666666666666, \"#ed7953\"], [0.7777777777777778, \"#fb9f3a\"], [0.8888888888888888, \"#fdca26\"], [1.0, \"#f0f921\"]], \"type\": \"contour\"}], \"contourcarpet\": [{\"colorbar\": {\"outlinewidth\": 0, \"ticks\": \"\"}, \"type\": \"contourcarpet\"}], \"heatmap\": [{\"colorbar\": {\"outlinewidth\": 0, \"ticks\": \"\"}, \"colorscale\": [[0.0, \"#0d0887\"], [0.1111111111111111, \"#46039f\"], [0.2222222222222222, \"#7201a8\"], [0.3333333333333333, \"#9c179e\"], [0.4444444444444444, \"#bd3786\"], [0.5555555555555556, \"#d8576b\"], [0.6666666666666666, \"#ed7953\"], [0.7777777777777778, \"#fb9f3a\"], [0.8888888888888888, \"#fdca26\"], [1.0, \"#f0f921\"]], \"type\": \"heatmap\"}], \"heatmapgl\": [{\"colorbar\": {\"outlinewidth\": 0, \"ticks\": \"\"}, \"colorscale\": [[0.0, \"#0d0887\"], [0.1111111111111111, \"#46039f\"], [0.2222222222222222, \"#7201a8\"], [0.3333333333333333, \"#9c179e\"], [0.4444444444444444, \"#bd3786\"], [0.5555555555555556, \"#d8576b\"], [0.6666666666666666, \"#ed7953\"], [0.7777777777777778, \"#fb9f3a\"], [0.8888888888888888, \"#fdca26\"], [1.0, \"#f0f921\"]], \"type\": \"heatmapgl\"}], \"histogram\": [{\"marker\": {\"colorbar\": {\"outlinewidth\": 0, \"ticks\": \"\"}}, \"type\": \"histogram\"}], \"histogram2d\": [{\"colorbar\": {\"outlinewidth\": 0, \"ticks\": \"\"}, \"colorscale\": [[0.0, \"#0d0887\"], [0.1111111111111111, \"#46039f\"], [0.2222222222222222, \"#7201a8\"], [0.3333333333333333, \"#9c179e\"], [0.4444444444444444, \"#bd3786\"], [0.5555555555555556, \"#d8576b\"], [0.6666666666666666, \"#ed7953\"], [0.7777777777777778, \"#fb9f3a\"], [0.8888888888888888, \"#fdca26\"], [1.0, \"#f0f921\"]], \"type\": \"histogram2d\"}], \"histogram2dcontour\": [{\"colorbar\": {\"outlinewidth\": 0, \"ticks\": \"\"}, \"colorscale\": [[0.0, \"#0d0887\"], [0.1111111111111111, \"#46039f\"], [0.2222222222222222, \"#7201a8\"], [0.3333333333333333, \"#9c179e\"], [0.4444444444444444, \"#bd3786\"], [0.5555555555555556, \"#d8576b\"], [0.6666666666666666, \"#ed7953\"], [0.7777777777777778, \"#fb9f3a\"], [0.8888888888888888, \"#fdca26\"], [1.0, \"#f0f921\"]], \"type\": \"histogram2dcontour\"}], \"mesh3d\": [{\"colorbar\": {\"outlinewidth\": 0, \"ticks\": \"\"}, \"type\": \"mesh3d\"}], \"parcoords\": [{\"line\": {\"colorbar\": {\"outlinewidth\": 0, \"ticks\": \"\"}}, \"type\": \"parcoords\"}], \"scatter\": [{\"marker\": {\"colorbar\": {\"outlinewidth\": 0, \"ticks\": \"\"}}, \"type\": \"scatter\"}], \"scatter3d\": [{\"line\": {\"colorbar\": {\"outlinewidth\": 0, \"ticks\": \"\"}}, \"marker\": {\"colorbar\": {\"outlinewidth\": 0, \"ticks\": \"\"}}, \"type\": \"scatter3d\"}], \"scattercarpet\": [{\"marker\": {\"colorbar\": {\"outlinewidth\": 0, \"ticks\": \"\"}}, \"type\": \"scattercarpet\"}], \"scattergeo\": [{\"marker\": {\"colorbar\": {\"outlinewidth\": 0, \"ticks\": \"\"}}, \"type\": \"scattergeo\"}], \"scattergl\": [{\"marker\": {\"colorbar\": {\"outlinewidth\": 0, \"ticks\": \"\"}}, \"type\": \"scattergl\"}], \"scattermapbox\": [{\"marker\": {\"colorbar\": {\"outlinewidth\": 0, \"ticks\": \"\"}}, \"type\": \"scattermapbox\"}], \"scatterpolar\": [{\"marker\": {\"colorbar\": {\"outlinewidth\": 0, \"ticks\": \"\"}}, \"type\": \"scatterpolar\"}], \"scatterpolargl\": [{\"marker\": {\"colorbar\": {\"outlinewidth\": 0, \"ticks\": \"\"}}, \"type\": \"scatterpolargl\"}], \"scatterternary\": [{\"marker\": {\"colorbar\": {\"outlinewidth\": 0, \"ticks\": \"\"}}, \"type\": \"scatterternary\"}], \"surface\": [{\"colorbar\": {\"outlinewidth\": 0, \"ticks\": \"\"}, \"colorscale\": [[0.0, \"#0d0887\"], [0.1111111111111111, \"#46039f\"], [0.2222222222222222, \"#7201a8\"], [0.3333333333333333, \"#9c179e\"], [0.4444444444444444, \"#bd3786\"], [0.5555555555555556, \"#d8576b\"], [0.6666666666666666, \"#ed7953\"], [0.7777777777777778, \"#fb9f3a\"], [0.8888888888888888, \"#fdca26\"], [1.0, \"#f0f921\"]], \"type\": \"surface\"}], \"table\": [{\"cells\": {\"fill\": {\"color\": \"#EBF0F8\"}, \"line\": {\"color\": \"white\"}}, \"header\": {\"fill\": {\"color\": \"#C8D4E3\"}, \"line\": {\"color\": \"white\"}}, \"type\": \"table\"}]}, \"layout\": {\"annotationdefaults\": {\"arrowcolor\": \"#2a3f5f\", \"arrowhead\": 0, \"arrowwidth\": 1}, \"colorscale\": {\"diverging\": [[0, \"#8e0152\"], [0.1, \"#c51b7d\"], [0.2, \"#de77ae\"], [0.3, \"#f1b6da\"], [0.4, \"#fde0ef\"], [0.5, \"#f7f7f7\"], [0.6, \"#e6f5d0\"], [0.7, \"#b8e186\"], [0.8, \"#7fbc41\"], [0.9, \"#4d9221\"], [1, \"#276419\"]], \"sequential\": [[0.0, \"#0d0887\"], [0.1111111111111111, \"#46039f\"], [0.2222222222222222, \"#7201a8\"], [0.3333333333333333, \"#9c179e\"], [0.4444444444444444, \"#bd3786\"], [0.5555555555555556, \"#d8576b\"], [0.6666666666666666, \"#ed7953\"], [0.7777777777777778, \"#fb9f3a\"], [0.8888888888888888, \"#fdca26\"], [1.0, \"#f0f921\"]], \"sequentialminus\": [[0.0, \"#0d0887\"], [0.1111111111111111, \"#46039f\"], [0.2222222222222222, \"#7201a8\"], [0.3333333333333333, \"#9c179e\"], [0.4444444444444444, \"#bd3786\"], [0.5555555555555556, \"#d8576b\"], [0.6666666666666666, \"#ed7953\"], [0.7777777777777778, \"#fb9f3a\"], [0.8888888888888888, \"#fdca26\"], [1.0, \"#f0f921\"]]}, \"colorway\": [\"#636efa\", \"#EF553B\", \"#00cc96\", \"#ab63fa\", \"#FFA15A\", \"#19d3f3\", \"#FF6692\", \"#B6E880\", \"#FF97FF\", \"#FECB52\"], \"font\": {\"color\": \"#2a3f5f\"}, \"geo\": {\"bgcolor\": \"white\", \"lakecolor\": \"white\", \"landcolor\": \"#E5ECF6\", \"showlakes\": true, \"showland\": true, \"subunitcolor\": \"white\"}, \"hoverlabel\": {\"align\": \"left\"}, \"hovermode\": \"closest\", \"mapbox\": {\"style\": \"light\"}, \"paper_bgcolor\": \"white\", \"plot_bgcolor\": \"#E5ECF6\", \"polar\": {\"angularaxis\": {\"gridcolor\": \"white\", \"linecolor\": \"white\", \"ticks\": \"\"}, \"bgcolor\": \"#E5ECF6\", \"radialaxis\": {\"gridcolor\": \"white\", \"linecolor\": \"white\", \"ticks\": \"\"}}, \"scene\": {\"xaxis\": {\"backgroundcolor\": \"#E5ECF6\", \"gridcolor\": \"white\", \"gridwidth\": 2, \"linecolor\": \"white\", \"showbackground\": true, \"ticks\": \"\", \"zerolinecolor\": \"white\"}, \"yaxis\": {\"backgroundcolor\": \"#E5ECF6\", \"gridcolor\": \"white\", \"gridwidth\": 2, \"linecolor\": \"white\", \"showbackground\": true, \"ticks\": \"\", \"zerolinecolor\": \"white\"}, \"zaxis\": {\"backgroundcolor\": \"#E5ECF6\", \"gridcolor\": \"white\", \"gridwidth\": 2, \"linecolor\": \"white\", \"showbackground\": true, \"ticks\": \"\", \"zerolinecolor\": \"white\"}}, \"shapedefaults\": {\"line\": {\"color\": \"#2a3f5f\"}}, \"ternary\": {\"aaxis\": {\"gridcolor\": \"white\", \"linecolor\": \"white\", \"ticks\": \"\"}, \"baxis\": {\"gridcolor\": \"white\", \"linecolor\": \"white\", \"ticks\": \"\"}, \"bgcolor\": \"#E5ECF6\", \"caxis\": {\"gridcolor\": \"white\", \"linecolor\": \"white\", \"ticks\": \"\"}}, \"title\": {\"x\": 0.05}, \"xaxis\": {\"automargin\": true, \"gridcolor\": \"white\", \"linecolor\": \"white\", \"ticks\": \"\", \"zerolinecolor\": \"white\", \"zerolinewidth\": 2}, \"yaxis\": {\"automargin\": true, \"gridcolor\": \"white\", \"linecolor\": \"white\", \"ticks\": \"\", \"zerolinecolor\": \"white\", \"zerolinewidth\": 2}}}, \"xaxis\": {\"anchor\": \"y\", \"domain\": [0.0, 0.98], \"title\": {\"text\": \"features\"}}, \"yaxis\": {\"anchor\": \"x\", \"domain\": [0.0, 1.0], \"title\": {\"text\": \"importance\"}}},\n",
       "                        {\"responsive\": true}\n",
       "                    ).then(function(){\n",
       "                            \n",
       "var gd = document.getElementById('b402e36d-65da-4c16-abd1-29320c4f2c59');\n",
       "var x = new MutationObserver(function (mutations, observer) {{\n",
       "        var display = window.getComputedStyle(gd).display;\n",
       "        if (!display || display === 'none') {{\n",
       "            console.log([gd, 'removed!']);\n",
       "            Plotly.purge(gd);\n",
       "            observer.disconnect();\n",
       "        }}\n",
       "}});\n",
       "\n",
       "// Listen for the removal of the full notebook cells\n",
       "var notebookContainer = gd.closest('#notebook-container');\n",
       "if (notebookContainer) {{\n",
       "    x.observe(notebookContainer, {childList: true});\n",
       "}}\n",
       "\n",
       "// Listen for the clearing of the current output cell\n",
       "var outputEl = gd.closest('.output');\n",
       "if (outputEl) {{\n",
       "    x.observe(outputEl, {childList: true});\n",
       "}}\n",
       "\n",
       "                        })\n",
       "                };\n",
       "                });\n",
       "            </script>\n",
       "        </div>"
      ]
     },
     "metadata": {},
     "output_type": "display_data"
    }
   ],
   "source": [
    "# plot the feature importance\n",
    "feature_importance.sort_values(by='importance', ascending=False, inplace=True)\n",
    "fig = px.bar(feature_importance, x=\"features\", y=\"importance\")\n",
    "\n",
    "fig.show()"
   ]
  },
  {
   "cell_type": "markdown",
   "metadata": {},
   "source": [
    "# YOUR QUEST: Get better R2 and MSE then this ^^"
   ]
  },
  {
   "cell_type": "markdown",
   "metadata": {},
   "source": [
    "..."
   ]
  },
  {
   "cell_type": "markdown",
   "metadata": {},
   "source": [
    "# Further topics"
   ]
  },
  {
   "cell_type": "markdown",
   "metadata": {},
   "source": [
    "* XGBoost\n",
    "* CatBoost\n",
    "* H2O"
   ]
  },
  {
   "cell_type": "markdown",
   "metadata": {},
   "source": [
    "# CatBoost"
   ]
  },
  {
   "cell_type": "markdown",
   "metadata": {},
   "source": [
    "# Sources:\n",
    "[Bias/Variance problem](https://www.learnopencv.com/bias-variance-tradeoff-in-machine-learning/)\n",
    "\n",
    "[Scikit supervized models](https://scikit-learn.org/stable/supervised_learning.html)\n",
    "\n",
    "[Bayessian regression post](https://stats.stackexchange.com/questions/252577/bayes-regression-how-is-it-done-in-comparison-to-standard-regression/252608)\n",
    "\n",
    "[XGBoost feature importance](https://machinelearningmastery.com/feature-importance-and-feature-selection-with-xgboost-in-python/)"
   ]
  }
 ],
 "metadata": {
  "kernelspec": {
   "display_name": ".venv_with_catboost",
   "language": "python",
   "name": ".venv_with_catboost"
  },
  "language_info": {
   "codemirror_mode": {
    "name": "ipython",
    "version": 3
   },
   "file_extension": ".py",
   "mimetype": "text/x-python",
   "name": "python",
   "nbconvert_exporter": "python",
   "pygments_lexer": "ipython3",
   "version": "3.6.4"
  }
 },
 "nbformat": 4,
 "nbformat_minor": 2
}

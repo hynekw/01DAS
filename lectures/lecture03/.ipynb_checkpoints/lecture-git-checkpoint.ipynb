{
 "cells": [
  {
   "cell_type": "markdown",
   "metadata": {
    "slideshow": {
     "slide_type": "slide"
    }
   },
   "source": [
    "# Tech skills\n",
    "- where are we?\n",
    "    - soft skills\n",
    "    - **tech skills**\n",
    "    - preprocessing\n",
    "    - common data science use cases\n",
    "    - projects\n",
    "- Goal: present few common tools and best practices to get the work done."
   ]
  },
  {
   "cell_type": "markdown",
   "metadata": {
    "slideshow": {
     "slide_type": "subslide"
    }
   },
   "source": [
    "- **git**\n",
    "    - self service\n",
    "    - cloud\n",
    "    - collaboration\n",
    "\n",
    "- code editors\n",
    "\n",
    "- virtual envs (sharing dependencies on other libraries in team)\n",
    "\n",
    "- python\n",
    "    - scientific stack\n",
    "    - basic code quality best practices"
   ]
  },
  {
   "cell_type": "markdown",
   "metadata": {
    "slideshow": {
     "slide_type": "subslide"
    }
   },
   "source": [
    "# Check\n",
    "Do you know at least 80% of those?\n",
    "- git commit, merge, pull, push, fetch, checkout, branch, HEAD\n",
    "- working directory, stage, remote, origin, clone\n",
    "\n",
    "Then see you next time."
   ]
  },
  {
   "cell_type": "markdown",
   "metadata": {
    "slideshow": {
     "slide_type": "slide"
    }
   },
   "source": [
    "# Tech skills part 1: Version Control"
   ]
  },
  {
   "cell_type": "markdown",
   "metadata": {
    "slideshow": {
     "slide_type": "slide"
    }
   },
   "source": [
    "## Motivation\n",
    "What do we want to solve here?"
   ]
  },
  {
   "cell_type": "markdown",
   "metadata": {
    "slideshow": {
     "slide_type": "subslide"
    }
   },
   "source": [
    "### One source of data\n",
    "\n",
    "![image.png](pics/data_lol1.png)"
   ]
  },
  {
   "cell_type": "markdown",
   "metadata": {
    "slideshow": {
     "slide_type": "subslide"
    }
   },
   "source": [
    "### Robust distribution of code\n",
    "\n",
    "![image.png](pics/data_lol2.png)"
   ]
  },
  {
   "cell_type": "markdown",
   "metadata": {
    "slideshow": {
     "slide_type": "subslide"
    }
   },
   "source": [
    "### Gracefully handling of simultaneous change in one file\n",
    "\n",
    "![image.png](pics/data_lol3.png)"
   ]
  },
  {
   "cell_type": "markdown",
   "metadata": {
    "slideshow": {
     "slide_type": "subslide"
    }
   },
   "source": [
    "### part 2\n",
    "\n",
    "![image.png](pics/data_lol4.png)"
   ]
  },
  {
   "cell_type": "markdown",
   "metadata": {
    "slideshow": {
     "slide_type": "subslide"
    }
   },
   "source": [
    "### Gracefully handling conflicts between updates\n",
    "\n",
    "![image.png](pics/data_lol5.png)"
   ]
  },
  {
   "cell_type": "markdown",
   "metadata": {
    "slideshow": {
     "slide_type": "subslide"
    }
   },
   "source": [
    "### Having clear history of snapshots and one canonical version of truth\n",
    "\n",
    "![image.png](pics/data_lol6.png)"
   ]
  },
  {
   "cell_type": "markdown",
   "metadata": {
    "slideshow": {
     "slide_type": "subslide"
    }
   },
   "source": [
    "### Solution?!\n",
    "\n",
    "![image.png](pics/data_lol7.png)"
   ]
  },
  {
   "cell_type": "markdown",
   "metadata": {
    "slideshow": {
     "slide_type": "slide"
    }
   },
   "source": [
    "### Real Solution?\n",
    "\n",
    "## Version control system\n",
    "\n",
    "There are many version control systems (git, svn, mercurial even google docs..) but Git is currently the most wildely used. So we're gonna learn this one."
   ]
  },
  {
   "cell_type": "markdown",
   "metadata": {
    "slideshow": {
     "slide_type": "subslide"
    }
   },
   "source": [
    "Version control handles"
   ]
  },
  {
   "cell_type": "markdown",
   "metadata": {
    "slideshow": {
     "slide_type": "fragment"
    }
   },
   "source": [
    "- **local back up** of files, allows us to test and **prototype** easily (branching out)"
   ]
  },
  {
   "cell_type": "markdown",
   "metadata": {
    "slideshow": {
     "slide_type": "fragment"
    }
   },
   "source": [
    "- save the back ups **online**, access them from multiple places"
   ]
  },
  {
   "cell_type": "markdown",
   "metadata": {
    "slideshow": {
     "slide_type": "fragment"
    }
   },
   "source": [
    "- **collaborate** on code"
   ]
  },
  {
   "cell_type": "markdown",
   "metadata": {
    "slideshow": {
     "slide_type": "slide"
    }
   },
   "source": [
    "# Version control in Git part 1: Self service\n",
    "How to back up, prototype text files properly."
   ]
  },
  {
   "cell_type": "markdown",
   "metadata": {
    "slideshow": {
     "slide_type": "slide"
    }
   },
   "source": [
    "## How to install\n",
    "\n",
    "- Mac OS\n",
    "    - by `brew install git` (you need Homebrew https://brew.sh/)\n",
    "    - or by installing Xcode Command Line Tools (type `git --version` in terminal)\n",
    "    - or http://git-scm.com/download/mac\n",
    "- Windows\n",
    "    - by installing from https://gitforwindows.org\n",
    "    - (or through full install of https://cmder.net/)\n",
    "    - (or through Linux subsystem)\n",
    "- Linux\n",
    "    - http://git-scm.com/book/en/Getting-Started-Installing-Git\n",
    "    \n",
    "(partially taken from https://rogerdudler.github.io/git-guide/)"
   ]
  },
  {
   "cell_type": "markdown",
   "metadata": {
    "slideshow": {
     "slide_type": "slide"
    }
   },
   "source": [
    "## Basic Terminology"
   ]
  },
  {
   "cell_type": "markdown",
   "metadata": {
    "slideshow": {
     "slide_type": "subslide"
    }
   },
   "source": [
    "### Repository (aka \"repo\")\n",
    "- represents project that will be versioned\n",
    "- is a branching history of snapshots\n",
    "\n",
    "### Commit\n",
    "- snapshot of state of the repo\n",
    "\n",
    "\n",
    "### Branch\n",
    "- Alternative version of the repository\n",
    "\n",
    "### HEAD\n",
    "- Currently active snapshot"
   ]
  },
  {
   "cell_type": "markdown",
   "metadata": {
    "slideshow": {
     "slide_type": "slide"
    }
   },
   "source": [
    "## Example"
   ]
  },
  {
   "cell_type": "markdown",
   "metadata": {
    "slideshow": {
     "slide_type": "subslide"
    }
   },
   "source": [
    "![image.png](pics/intro-git-tree/master-commit1-editor.png)"
   ]
  },
  {
   "cell_type": "markdown",
   "metadata": {
    "slideshow": {
     "slide_type": "subslide"
    }
   },
   "source": [
    "![image.png](pics/intro-git-tree/master-commit2-editor.png)"
   ]
  },
  {
   "cell_type": "markdown",
   "metadata": {
    "slideshow": {
     "slide_type": "subslide"
    }
   },
   "source": [
    "![image.png](pics/intro-git-tree/master-commit3-editor.png)"
   ]
  },
  {
   "cell_type": "markdown",
   "metadata": {
    "slideshow": {
     "slide_type": "subslide"
    }
   },
   "source": [
    "![image.png](pics/intro-git-tree/master-commit4-editor.png)"
   ]
  },
  {
   "cell_type": "markdown",
   "metadata": {
    "slideshow": {
     "slide_type": "subslide"
    }
   },
   "source": [
    "![image.png](pics/intro-git-tree/master-commit5-editor.png)"
   ]
  },
  {
   "cell_type": "markdown",
   "metadata": {
    "slideshow": {
     "slide_type": "subslide"
    }
   },
   "source": [
    "![image.png](pics/intro-git-tree/master-commit6-editor.png)"
   ]
  },
  {
   "cell_type": "markdown",
   "metadata": {
    "slideshow": {
     "slide_type": "subslide"
    }
   },
   "source": [
    "![image.png](pics/intro-git-tree/master-commit7-editor.png)"
   ]
  },
  {
   "cell_type": "markdown",
   "metadata": {
    "slideshow": {
     "slide_type": "subslide"
    }
   },
   "source": [
    "![image.png](pics/intro-git-tree/master-commit8-editor.png)"
   ]
  },
  {
   "cell_type": "markdown",
   "metadata": {
    "slideshow": {
     "slide_type": "subslide"
    }
   },
   "source": [
    "![image.png](pics/intro-git-tree/master-commit9-editor.png)"
   ]
  },
  {
   "cell_type": "markdown",
   "metadata": {
    "slideshow": {
     "slide_type": "subslide"
    }
   },
   "source": [
    "![image.png](pics/intro-git-tree/master-commit10-editor.png)"
   ]
  },
  {
   "cell_type": "markdown",
   "metadata": {
    "slideshow": {
     "slide_type": "subslide"
    }
   },
   "source": [
    "### Merge\n",
    "\n",
    "- joining one branch to the other\n",
    "- git tries to merge automatically.\n",
    "\n",
    "```sh\n",
    "22:36 presentation_git_repo on master\n",
    "➔ git merge address\n",
    "Auto-merging letter.txt\n",
    "Merge made by the 'recursive' strategy.\n",
    " letter.txt | 11 +++++++++++\n",
    " 1 file changed, 11 insertions(+)\n",
    "```"
   ]
  },
  {
   "cell_type": "markdown",
   "metadata": {
    "slideshow": {
     "slide_type": "slide"
    }
   },
   "source": [
    "## Three stages of git life\n",
    "\n",
    "\"From idea to immutable snapshot\"\n",
    "- Three places where changes to files may live in git."
   ]
  },
  {
   "cell_type": "markdown",
   "metadata": {
    "slideshow": {
     "slide_type": "subslide"
    }
   },
   "source": [
    "### Working directory\n",
    "\n",
    "\"Your playground\"\n",
    "\n",
    "- the current status of the files on your system\n",
    "- modify files as much You want, nothing is stored in git.\n",
    "- good for prototyping, experimentation\n",
    "\n",
    "<img src=\"pics/git-stages/working-directory.jpg\" alt=\"sandbox\" width=\"400\"/>"
   ]
  },
  {
   "cell_type": "markdown",
   "metadata": {
    "slideshow": {
     "slide_type": "subslide"
    }
   },
   "source": [
    "### Stage (aka Index)\n",
    "\"Putting things together\"\n",
    "\n",
    "- Created by \"adding\" (aka \"staging\") some changes.\n",
    "- Contains selected changes, from selected files, ready to be commited.\n",
    "- Allows for grouping related things together in commits\n",
    "\n",
    "<img src=\"pics/git-stages/staging.jpg\" alt=\"disassembled engine\" width=\"400\"/>"
   ]
  },
  {
   "cell_type": "markdown",
   "metadata": {
    "slideshow": {
     "slide_type": "subslide"
    }
   },
   "source": [
    "### Repository\n",
    "\"Bookkeeping\"\n",
    "\n",
    "- Changes from stage added to repository by commiting\n",
    "- Permanent, immutable (sort of) store of records\n",
    "\n",
    "<img src=\"pics/git-stages/repo.jpg\" alt=\"ancient chronicles\" width=\"400\"/>"
   ]
  },
  {
   "cell_type": "markdown",
   "metadata": {
    "slideshow": {
     "slide_type": "subslide"
    }
   },
   "source": [
    "### Why bother with staging at all?\n",
    "- Makes git performant\n",
    "- Allows of preview changes to be commited\n",
    "- Allows to group related changes together"
   ]
  },
  {
   "cell_type": "markdown",
   "metadata": {
    "slideshow": {
     "slide_type": "slide"
    }
   },
   "source": [
    "### Traversing between stages\n",
    "\n",
    "![image.png](pics/git-stages.png)\n",
    "\n",
    "(actually the arrows can also go the other way with little bit of git-fu)"
   ]
  },
  {
   "cell_type": "markdown",
   "metadata": {
    "slideshow": {
     "slide_type": "slide"
    }
   },
   "source": [
    "## Hands on: part 1"
   ]
  },
  {
   "cell_type": "markdown",
   "metadata": {
    "slideshow": {
     "slide_type": "subslide"
    }
   },
   "source": [
    "In command line, go to desired folder and type:\n",
    "\n",
    "```sh\n",
    "git init\n",
    "```\n",
    "\n",
    "This creates an empty git repository."
   ]
  },
  {
   "cell_type": "markdown",
   "metadata": {
    "slideshow": {
     "slide_type": "subslide"
    }
   },
   "source": [
    "type `git status`\n",
    "```sh\n",
    "> git status\n",
    "On branch master\n",
    "\n",
    "No commits yet\n",
    "\n",
    "nothing to commit (create/copy files and use \"git add\" to track)\n",
    "```"
   ]
  },
  {
   "cell_type": "markdown",
   "metadata": {
    "slideshow": {
     "slide_type": "subslide"
    }
   },
   "source": [
    "```sh\n",
    "touch my_project.py\n",
    "```"
   ]
  },
  {
   "cell_type": "markdown",
   "metadata": {
    "slideshow": {
     "slide_type": "subslide"
    }
   },
   "source": [
    "```sh\n",
    "> git status\n",
    "On branch master\n",
    "\n",
    "No commits yet\n",
    "\n",
    "Untracked files:\n",
    "  (use \"git add <file>...\" to include in what will be committed)\n",
    "\n",
    "\tmy_project.py\n",
    "\n",
    "nothing added to commit but untracked files present (use \"git add\" to track)\n",
    "```"
   ]
  },
  {
   "cell_type": "markdown",
   "metadata": {
    "slideshow": {
     "slide_type": "subslide"
    }
   },
   "source": [
    "See that git helps\n",
    "```sh\n",
    "git add\n",
    "```\n",
    "\n",
    "```sh\n",
    "Nothing specified, nothing added.\n",
    "Maybe you wanted to say 'git add .'?\n",
    "```\n",
    "\n",
    "```sh\n",
    "git add my_project.py\n",
    "```\n",
    "\n",
    "(use `git add -p` for changes in existing file, will ask for each change separately)"
   ]
  },
  {
   "cell_type": "markdown",
   "metadata": {
    "slideshow": {
     "slide_type": "subslide"
    }
   },
   "source": [
    "```sh\n",
    "> git status\n",
    "On branch master\n",
    "\n",
    "No commits yet\n",
    "\n",
    "Changes to be committed:\n",
    "  (use \"git rm --cached <file>...\" to unstage)\n",
    "\n",
    "\tnew file:   my_project.py\n",
    "```"
   ]
  },
  {
   "cell_type": "markdown",
   "metadata": {
    "slideshow": {
     "slide_type": "subslide"
    }
   },
   "source": [
    "```sh\n",
    "git commit -m \"Add file with my new cool project\"\n",
    "```"
   ]
  },
  {
   "cell_type": "markdown",
   "metadata": {
    "slideshow": {
     "slide_type": "subslide"
    }
   },
   "source": [
    "You can ask for help\n",
    "```sh\n",
    "git commit --help\n",
    "```\n",
    "\n",
    "```sh\n",
    "GIT-COMMIT(1)                       Git Manual                       GIT-COMMIT(1)\n",
    "\n",
    "\n",
    "\n",
    "NAME\n",
    "       git-commit - Record changes to the repository\n",
    "\n",
    "SYNOPSIS\n",
    "       git commit [-a | --interactive | --patch] [-s] [-v] [-u<mode>] [--amend]\n",
    "                  [--dry-run] [(-c | -C | --fixup | --squash) <commit>]\n",
    "                  [-F <file> | -m <msg>] [--reset-author] [--allow-empty]\n",
    "...\n",
    "```"
   ]
  },
  {
   "cell_type": "markdown",
   "metadata": {
    "slideshow": {
     "slide_type": "subslide"
    }
   },
   "source": [
    "tldr is nice (https://tldr.ostera.io/git-commit) or https://tldr.sh/#installation\n",
    "```sh\n",
    "tldr git commit\n",
    "```\n"
   ]
  },
  {
   "cell_type": "markdown",
   "metadata": {
    "slideshow": {
     "slide_type": "subslide"
    }
   },
   "source": [
    "```sh\n",
    "Commit files to the repository.\n",
    "- Commit staged files to the repository with a message:\n",
    "    git commit -m message\n",
    "\n",
    "- Auto stage all modified files and commit with a message:\n",
    "    git commit -a -m message\n",
    "\n",
    "- Replace the last commit with currently staged changes:\n",
    "    git commit --amend\n",
    "\n",
    "- Commit only specific (already staged) files:\n",
    "    git commit path/to/my/file1 path/to/my/file2\n",
    "```"
   ]
  },
  {
   "cell_type": "markdown",
   "metadata": {
    "slideshow": {
     "slide_type": "subslide"
    }
   },
   "source": [
    "Status again clean:\n",
    "```sh\n",
    "> git status\n",
    "On branch master\n",
    "nothing to commit, working tree clean\n",
    "```"
   ]
  },
  {
   "cell_type": "markdown",
   "metadata": {
    "slideshow": {
     "slide_type": "subslide"
    }
   },
   "source": [
    "Let's update the file add it to stage and commit the changes.\n",
    "\n",
    "```sh\n",
    "git commit -m \"Update file\"\n",
    "```"
   ]
  },
  {
   "cell_type": "markdown",
   "metadata": {
    "slideshow": {
     "slide_type": "subslide"
    }
   },
   "source": [
    "Look at history\n",
    "```sh\n",
    "git log\n",
    "```"
   ]
  },
  {
   "cell_type": "markdown",
   "metadata": {
    "slideshow": {
     "slide_type": "subslide"
    }
   },
   "source": [
    "```sh\n",
    "commit 1fbb5c60d09d385d15205d8e1208c7634ef16e8f (HEAD -> master)\n",
    "Author: Viktor\n",
    "Date:   Tue Oct 1 23:34:49 2019 +0200\n",
    "\n",
    "    Update file\n",
    "\n",
    "commit 577f2d6206b45a59c1ddc33e2220ac4e1aef1648\n",
    "Author: Viktor\n",
    "Date:   Tue Oct 1 23:32:52 2019 +0200\n",
    "\n",
    "    Add file with my new cool project\n",
    "(END)\n",
    "```"
   ]
  },
  {
   "cell_type": "markdown",
   "metadata": {
    "slideshow": {
     "slide_type": "subslide"
    }
   },
   "source": [
    "Move state of the project to the previous commit\n",
    "```sh\n",
    "git checkout 6676844adf1745abef38b1046195a2b122e94755\n",
    "```\n",
    "\n",
    "Previous commit can be also referenced with:\n",
    "```sh\n",
    "git checkout HEAD^\n",
    "```\n",
    "\n",
    "Move back to the last commit in the branch:\n",
    "```sh\n",
    "git checkout master\n",
    "```"
   ]
  },
  {
   "cell_type": "markdown",
   "metadata": {
    "slideshow": {
     "slide_type": "slide"
    }
   },
   "source": [
    "## Your turn\n",
    "- Init a repo in folder with your project.\n",
    "- Add files to stage and commit them, in reasonable groups.\n",
    "- Checkout to some previous commit and back."
   ]
  },
  {
   "cell_type": "markdown",
   "metadata": {
    "slideshow": {
     "slide_type": "slide"
    }
   },
   "source": [
    "# Version control part 2: Cloud\n",
    "How to talk with online repository"
   ]
  },
  {
   "cell_type": "markdown",
   "metadata": {
    "slideshow": {
     "slide_type": "slide"
    }
   },
   "source": [
    "## Terminology part 2\n",
    "- **Remote** (repository online)\n",
    "- **Remote providers** (Github, Gitlab)\n",
    "- **Clone** (download remote repository)\n",
    "- **Fetch** (update information about remote repository)\n",
    "- **Pull** (download and update current branch)\n",
    "- **Push** (upload)"
   ]
  },
  {
   "cell_type": "markdown",
   "metadata": {
    "slideshow": {
     "slide_type": "subslide"
    }
   },
   "source": [
    "### Traversing between stages v2\n",
    "\n",
    "![image.png](pics/git-flowchart-with-remote.png)"
   ]
  },
  {
   "cell_type": "markdown",
   "metadata": {
    "slideshow": {
     "slide_type": "slide"
    }
   },
   "source": [
    "## Adding your local repo to Github\n",
    "https://help.github.com/en/articles/adding-an-existing-project-to-github-using-the-command-line\n",
    "\n",
    "![image.png](pics/create-repo1.png)"
   ]
  },
  {
   "cell_type": "markdown",
   "metadata": {
    "slideshow": {
     "slide_type": "subslide"
    }
   },
   "source": [
    "![image.png](pics/create-repo2b.png)"
   ]
  },
  {
   "cell_type": "markdown",
   "metadata": {
    "slideshow": {
     "slide_type": "subslide"
    }
   },
   "source": [
    "![image.png](pics/create-repo3.png)"
   ]
  },
  {
   "cell_type": "markdown",
   "metadata": {
    "slideshow": {
     "slide_type": "subslide"
    }
   },
   "source": [
    "```sh\n",
    "git remote add origin https://github.com/username/my_repo.git\n",
    "git push --set-upstream origin master\n",
    "```"
   ]
  },
  {
   "cell_type": "markdown",
   "metadata": {
    "slideshow": {
     "slide_type": "slide"
    }
   },
   "source": [
    "## Downloading someone else's repo\n",
    "\n",
    "![image.png](pics/clone-repo1.png)"
   ]
  },
  {
   "cell_type": "markdown",
   "metadata": {
    "slideshow": {
     "slide_type": "subslide"
    }
   },
   "source": [
    "```sh\n",
    "mkdir my_local_repo\n",
    "git clone https://github.com/username/my_repo.git my_local_repo\n",
    "```"
   ]
  },
  {
   "cell_type": "markdown",
   "metadata": {
    "slideshow": {
     "slide_type": "slide"
    }
   },
   "source": [
    "### Github live demo 1\n",
    "\n",
    "https://github.com/tensorflow/tensorflow\n",
    "- README.md\n",
    "- commits, with diffs\n",
    "- branches\n",
    "- git clone"
   ]
  },
  {
   "cell_type": "markdown",
   "metadata": {
    "slideshow": {
     "slide_type": "slide"
    }
   },
   "source": [
    "## Your turn\n",
    "- 1 person from team creates repo in their Github\n",
    "- Add theirs local repo to the remote\n",
    "- Other team members clone this remote repo."
   ]
  },
  {
   "cell_type": "markdown",
   "metadata": {
    "slideshow": {
     "slide_type": "slide"
    }
   },
   "source": [
    "# Version control part 3: Collaboration\n",
    "How to work on a text file in a team."
   ]
  },
  {
   "cell_type": "markdown",
   "metadata": {
    "slideshow": {
     "slide_type": "slide"
    }
   },
   "source": [
    "## Terminology part 3\n",
    "- Github:\n",
    "    - Issues\n",
    "    - Pull requests\n",
    "- Merge conflicts"
   ]
  },
  {
   "cell_type": "markdown",
   "metadata": {
    "slideshow": {
     "slide_type": "subslide"
    }
   },
   "source": [
    "### Github Issues\n",
    "\n",
    "- Request and bug tracker\n",
    "- Discuss the issue, then open a pull request for it.\n",
    "\n",
    "![image.png](pics/github-issues.png)"
   ]
  },
  {
   "cell_type": "markdown",
   "metadata": {
    "slideshow": {
     "slide_type": "subslide"
    }
   },
   "source": [
    "### Github projects\n",
    "\n",
    "- Like a Trello but for Github issues\n",
    "\n",
    "![image.png](pics/github-project.png)"
   ]
  },
  {
   "cell_type": "markdown",
   "metadata": {
    "slideshow": {
     "slide_type": "subslide"
    }
   },
   "source": [
    "### Github projects\n",
    "\n",
    "- Like a Trello but for Github issues\n",
    "\n",
    "![image.png](pics/github-project.png)"
   ]
  },
  {
   "cell_type": "markdown",
   "metadata": {
    "slideshow": {
     "slide_type": "subslide"
    }
   },
   "source": [
    "### Pull request\n",
    "- process for merging feature branches into master branch\n",
    "- allows for review of other team members\n",
    "\n",
    "https://github.com/tensorflow/tensorflow/pull/31132\n",
    "(check descriptions, files changed, reviewers, comments, conflicts)"
   ]
  },
  {
   "cell_type": "markdown",
   "metadata": {
    "slideshow": {
     "slide_type": "subslide"
    }
   },
   "source": [
    "### Merge conflict\n",
    "- Git is not able to automatically resolve changes from two branches\n",
    "- Conflicts need to be solved manually\n",
    "\n",
    "```sh\n",
    "> git merge indent\n",
    "Auto-merging letter.txt\n",
    "CONFLICT (content): Merge conflict in letter.txt\n",
    "Automatic merge failed; fix conflicts and then commit the result.\n",
    "```"
   ]
  },
  {
   "cell_type": "markdown",
   "metadata": {
    "slideshow": {
     "slide_type": "subslide"
    }
   },
   "source": [
    "![image.png](pics/merge-conflict.png)"
   ]
  },
  {
   "cell_type": "markdown",
   "metadata": {
    "slideshow": {
     "slide_type": "subslide"
    }
   },
   "source": [
    "## GUIs\n",
    "- gitkraken\n",
    "- sourcetree\n",
    "- sublime merge\n",
    "- present in IDEs"
   ]
  },
  {
   "cell_type": "markdown",
   "metadata": {
    "slideshow": {
     "slide_type": "subslide"
    }
   },
   "source": [
    "# Demo"
   ]
  },
  {
   "cell_type": "markdown",
   "metadata": {
    "slideshow": {
     "slide_type": "slide"
    }
   },
   "source": [
    "## Further reading\n",
    "\n",
    "- https://agripongit.vincenttunru.com/: very nice visual tutorial to git branching, merging\n",
    "- [gitignore: how to ignore files in project we don't want to ever commit](https://medium.com/@haydar_ai/learning-how-to-git-ignoring-files-and-folders-using-gitignore-177556afdbe3)\n",
    "- working with large files in git\n",
    "  - [limits of files sizes in github](https://help.github.com/en/articles/working-with-large-files)\n",
    "  - [git lfs: versioning large files properly](https://help.github.com/en/articles/versioning-large-files)"
   ]
  }
 ],
 "metadata": {
  "celltoolbar": "Slideshow",
  "hide_input": false,
  "kernelspec": {
   "display_name": "Python 3",
   "language": "python",
   "name": "python3"
  },
  "language_info": {
   "codemirror_mode": {
    "name": "ipython",
    "version": 3
   },
   "file_extension": ".py",
   "mimetype": "text/x-python",
   "name": "python",
   "nbconvert_exporter": "python",
   "pygments_lexer": "ipython3",
   "version": "3.7.4"
  },
  "toc": {
   "nav_menu": {},
   "number_sections": true,
   "sideBar": true,
   "skip_h1_title": false,
   "toc_cell": false,
   "toc_position": {},
   "toc_section_display": "block",
   "toc_window_display": false
  },
  "varInspector": {
   "cols": {
    "lenName": 16,
    "lenType": 16,
    "lenVar": 40
   },
   "kernels_config": {
    "python": {
     "delete_cmd_postfix": "",
     "delete_cmd_prefix": "del ",
     "library": "var_list.py",
     "varRefreshCmd": "print(var_dic_list())"
    },
    "r": {
     "delete_cmd_postfix": ") ",
     "delete_cmd_prefix": "rm(",
     "library": "var_list.r",
     "varRefreshCmd": "cat(var_dic_list()) "
    }
   },
   "types_to_exclude": [
    "module",
    "function",
    "builtin_function_or_method",
    "instance",
    "_Feature"
   ],
   "window_display": false
  }
 },
 "nbformat": 4,
 "nbformat_minor": 2
}

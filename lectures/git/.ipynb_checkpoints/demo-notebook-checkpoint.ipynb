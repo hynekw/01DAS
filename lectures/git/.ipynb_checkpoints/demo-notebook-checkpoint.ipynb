{
 "cells": [
  {
   "cell_type": "markdown",
   "metadata": {},
   "source": [
    "Try\n",
    "- [ ] edit cell (`enter` key)\n",
    "- [ ] go back from edititng (`esc` key)\n",
    "- [ ] run cell (`cmd + enter`)\n",
    "- [ ] run call and go to next cell(`shift + enter`) \n",
    "- [ ] marking cell as code or markdown (`c` or `m` key) ([markdown syntax](https://www.markdownguide.org/basic-syntax/))\n",
    "- [ ] add a cell (`b` key for below, `a` key for above)\n",
    "- [ ] remove cell (double press the `d` key)\n",
    "- [ ] copy, cut, paste cell (`x`, `c`, `v`)\n",
    "- [ ] for advanced features (merging cells, moving them, undo...) try **command palette** (`cmd  + shift + p`)\n",
    "- [ ] look what you can do in Kernel menu (interrupt, restart, change..)\n",
    "    - adding new kernels https://medium.com/@eleroy/jupyter-notebook-in-a-virtual-environment-virtualenv-8f3c3448247"
   ]
  },
  {
   "cell_type": "code",
   "execution_count": null,
   "metadata": {},
   "outputs": [],
   "source": [
    "from sklearn.datasets import load_breast_cancer"
   ]
  },
  {
   "cell_type": "markdown",
   "metadata": {},
   "source": [
    "*October is breast cancer awareness month 🎀, learn more at* https://www.nationalbreastcancer.org/about-breast-cancer/"
   ]
  },
  {
   "cell_type": "code",
   "execution_count": null,
   "metadata": {},
   "outputs": [],
   "source": [
    "import pandas as pd"
   ]
  },
  {
   "cell_type": "code",
   "execution_count": null,
   "metadata": {},
   "outputs": [],
   "source": [
    "data = load_breast_cancer()"
   ]
  },
  {
   "cell_type": "code",
   "execution_count": null,
   "metadata": {},
   "outputs": [],
   "source": [
    "df = pd.DataFrame(data.data, columns=data.feature_names)"
   ]
  },
  {
   "cell_type": "code",
   "execution_count": null,
   "metadata": {},
   "outputs": [],
   "source": [
    "df.head()"
   ]
  },
  {
   "cell_type": "code",
   "execution_count": null,
   "metadata": {},
   "outputs": [],
   "source": [
    "%matplotlib inline"
   ]
  },
  {
   "cell_type": "code",
   "execution_count": null,
   "metadata": {},
   "outputs": [],
   "source": [
    "df['mean symmetry'].hist()"
   ]
  },
  {
   "cell_type": "code",
   "execution_count": null,
   "metadata": {},
   "outputs": [],
   "source": []
  }
 ],
 "metadata": {
  "kernelspec": {
   "display_name": "recommend",
   "language": "python",
   "name": "recommend"
  },
  "language_info": {
   "codemirror_mode": {
    "name": "ipython",
    "version": 2
   },
   "file_extension": ".py",
   "mimetype": "text/x-python",
   "name": "python",
   "nbconvert_exporter": "python",
   "pygments_lexer": "ipython2",
   "version": "2.7.16"
  }
 },
 "nbformat": 4,
 "nbformat_minor": 2
}

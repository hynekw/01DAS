{
 "cells": [
  {
   "cell_type": "markdown",
   "metadata": {},
   "source": [
    "Try\n",
    "- [ ] edit cell (`enter` key)\n",
    "- [ ] go back from edititng (`esc` key)\n",
    "- [ ] run cell (`cmd + enter`)\n",
    "- [ ] run call and go to next cell(`shift + enter`) \n",
    "- [ ] marking cell as code or markdown (`m` key) ([markdown syntax](https://www.markdownguide.org/basic-syntax/))\n",
    "- [ ] add a cell (`b` key for below, `a` key for above)\n",
    "- [ ] remove cell (double press the `d` key)\n",
    "- [ ] copy, cut, paste cell (`c`, `x`, `v`)\n",
    "- [ ] for advanced features (merging cells, moving them, undo...) try **command palette** (`cmd  + shift + p`)\n",
    "- [ ] look what you can do in Kernel menu (interrupt, restart, change..)\n",
    "    - adding new kernels https://medium.com/@eleroy/jupyter-notebook-in-a-virtual-environment-virtualenv-8f3c3448247"
   ]
  },
  {
   "cell_type": "code",
   "execution_count": null,
   "metadata": {},
   "outputs": [],
   "source": [
    "from sklearn.datasets import load_breast_cancer"
   ]
  },
  {
   "cell_type": "markdown",
   "metadata": {},
   "source": [
    "*October is breast cancer awareness month 🎀, learn more at* https://www.nationalbreastcancer.org/about-breast-cancer/"
   ]
  },
  {
   "cell_type": "code",
   "execution_count": null,
   "metadata": {},
   "outputs": [],
   "source": [
    "import pandas as pd"
   ]
  },
  {
   "cell_type": "code",
   "execution_count": null,
   "metadata": {},
   "outputs": [],
   "source": [
    "data = load_breast_cancer()"
   ]
  },
  {
   "cell_type": "code",
   "execution_count": null,
   "metadata": {},
   "outputs": [],
   "source": [
    "df = pd.DataFrame(data.data, columns=data.feature_names)"
   ]
  },
  {
   "cell_type": "code",
   "execution_count": null,
   "metadata": {},
   "outputs": [],
   "source": [
    "df.head()"
   ]
  },
  {
   "cell_type": "code",
   "execution_count": null,
   "metadata": {},
   "outputs": [],
   "source": [
    "%matplotlib inline"
   ]
  },
  {
   "cell_type": "code",
   "execution_count": null,
   "metadata": {},
   "outputs": [],
   "source": [
    "df['mean symmetry'].hist()"
   ]
  }
 ],
 "metadata": {
  "kernelspec": {
   "display_name": "Python 3 (ipykernel)",
   "language": "python",
   "name": "python3"
  },
  "language_info": {
   "codemirror_mode": {
    "name": "ipython",
    "version": 3
   },
   "file_extension": ".py",
   "mimetype": "text/x-python",
   "name": "python",
   "nbconvert_exporter": "python",
   "pygments_lexer": "ipython3",
   "version": "3.8.5"
  }
 },
 "nbformat": 4,
 "nbformat_minor": 4
}
